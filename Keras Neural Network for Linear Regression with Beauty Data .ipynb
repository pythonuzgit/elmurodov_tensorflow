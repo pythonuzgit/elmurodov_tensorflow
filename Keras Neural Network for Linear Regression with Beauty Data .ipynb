{
 "cells": [
  {
   "cell_type": "markdown",
   "metadata": {},
   "source": [
    "import the following package"
   ]
  },
  {
   "cell_type": "code",
   "execution_count": 7,
   "metadata": {},
   "outputs": [],
   "source": [
    "import pandas as pd"
   ]
  },
  {
   "cell_type": "markdown",
   "metadata": {},
   "source": [
    "We will be using the BeautyData set as the source of data. So, load data set"
   ]
  },
  {
   "cell_type": "code",
   "execution_count": 8,
   "metadata": {},
   "outputs": [],
   "source": [
    "df = pd.read_csv('BeautyData.csv')"
   ]
  },
  {
   "cell_type": "code",
   "execution_count": 11,
   "metadata": {
    "scrolled": true
   },
   "outputs": [
    {
     "data": {
      "text/html": [
       "<div>\n",
       "<style scoped>\n",
       "    .dataframe tbody tr th:only-of-type {\n",
       "        vertical-align: middle;\n",
       "    }\n",
       "\n",
       "    .dataframe tbody tr th {\n",
       "        vertical-align: top;\n",
       "    }\n",
       "\n",
       "    .dataframe thead th {\n",
       "        text-align: right;\n",
       "    }\n",
       "</style>\n",
       "<table border=\"1\" class=\"dataframe\">\n",
       "  <thead>\n",
       "    <tr style=\"text-align: right;\">\n",
       "      <th></th>\n",
       "      <th>CourseEvals</th>\n",
       "      <th>BeautyScore</th>\n",
       "      <th>female</th>\n",
       "      <th>lower</th>\n",
       "      <th>nonenglish</th>\n",
       "      <th>tenuretrack</th>\n",
       "    </tr>\n",
       "  </thead>\n",
       "  <tbody>\n",
       "    <tr>\n",
       "      <td>0</td>\n",
       "      <td>3.235245</td>\n",
       "      <td>0.201567</td>\n",
       "      <td>1</td>\n",
       "      <td>0</td>\n",
       "      <td>0</td>\n",
       "      <td>1</td>\n",
       "    </tr>\n",
       "    <tr>\n",
       "      <td>1</td>\n",
       "      <td>3.226328</td>\n",
       "      <td>-0.826081</td>\n",
       "      <td>0</td>\n",
       "      <td>0</td>\n",
       "      <td>0</td>\n",
       "      <td>1</td>\n",
       "    </tr>\n",
       "    <tr>\n",
       "      <td>2</td>\n",
       "      <td>3.647712</td>\n",
       "      <td>-0.660333</td>\n",
       "      <td>0</td>\n",
       "      <td>0</td>\n",
       "      <td>0</td>\n",
       "      <td>1</td>\n",
       "    </tr>\n",
       "    <tr>\n",
       "      <td>3</td>\n",
       "      <td>3.372062</td>\n",
       "      <td>-0.766312</td>\n",
       "      <td>1</td>\n",
       "      <td>0</td>\n",
       "      <td>0</td>\n",
       "      <td>1</td>\n",
       "    </tr>\n",
       "    <tr>\n",
       "      <td>4</td>\n",
       "      <td>4.292705</td>\n",
       "      <td>1.421445</td>\n",
       "      <td>1</td>\n",
       "      <td>0</td>\n",
       "      <td>0</td>\n",
       "      <td>1</td>\n",
       "    </tr>\n",
       "    <tr>\n",
       "      <td>...</td>\n",
       "      <td>...</td>\n",
       "      <td>...</td>\n",
       "      <td>...</td>\n",
       "      <td>...</td>\n",
       "      <td>...</td>\n",
       "      <td>...</td>\n",
       "    </tr>\n",
       "    <tr>\n",
       "      <td>458</td>\n",
       "      <td>4.438559</td>\n",
       "      <td>1.143045</td>\n",
       "      <td>0</td>\n",
       "      <td>1</td>\n",
       "      <td>0</td>\n",
       "      <td>1</td>\n",
       "    </tr>\n",
       "    <tr>\n",
       "      <td>459</td>\n",
       "      <td>4.860266</td>\n",
       "      <td>1.143045</td>\n",
       "      <td>0</td>\n",
       "      <td>0</td>\n",
       "      <td>0</td>\n",
       "      <td>1</td>\n",
       "    </tr>\n",
       "    <tr>\n",
       "      <td>460</td>\n",
       "      <td>4.154587</td>\n",
       "      <td>0.332051</td>\n",
       "      <td>1</td>\n",
       "      <td>0</td>\n",
       "      <td>1</td>\n",
       "      <td>1</td>\n",
       "    </tr>\n",
       "    <tr>\n",
       "      <td>461</td>\n",
       "      <td>3.111189</td>\n",
       "      <td>0.332051</td>\n",
       "      <td>1</td>\n",
       "      <td>0</td>\n",
       "      <td>1</td>\n",
       "      <td>1</td>\n",
       "    </tr>\n",
       "    <tr>\n",
       "      <td>462</td>\n",
       "      <td>3.434022</td>\n",
       "      <td>0.332051</td>\n",
       "      <td>1</td>\n",
       "      <td>1</td>\n",
       "      <td>1</td>\n",
       "      <td>1</td>\n",
       "    </tr>\n",
       "  </tbody>\n",
       "</table>\n",
       "<p>463 rows × 6 columns</p>\n",
       "</div>"
      ],
      "text/plain": [
       "     CourseEvals  BeautyScore  female  lower  nonenglish  tenuretrack\n",
       "0       3.235245     0.201567       1      0           0            1\n",
       "1       3.226328    -0.826081       0      0           0            1\n",
       "2       3.647712    -0.660333       0      0           0            1\n",
       "3       3.372062    -0.766312       1      0           0            1\n",
       "4       4.292705     1.421445       1      0           0            1\n",
       "..           ...          ...     ...    ...         ...          ...\n",
       "458     4.438559     1.143045       0      1           0            1\n",
       "459     4.860266     1.143045       0      0           0            1\n",
       "460     4.154587     0.332051       1      0           1            1\n",
       "461     3.111189     0.332051       1      0           1            1\n",
       "462     3.434022     0.332051       1      1           1            1\n",
       "\n",
       "[463 rows x 6 columns]"
      ]
     },
     "execution_count": 11,
     "metadata": {},
     "output_type": "execute_result"
    }
   ],
   "source": [
    "df"
   ]
  },
  {
   "cell_type": "markdown",
   "metadata": {},
   "source": [
    "Convert into arrays "
   ]
  },
  {
   "cell_type": "code",
   "execution_count": 12,
   "metadata": {},
   "outputs": [],
   "source": [
    "dataset = df.values"
   ]
  },
  {
   "cell_type": "code",
   "execution_count": 13,
   "metadata": {},
   "outputs": [
    {
     "data": {
      "text/plain": [
       "array([[ 3.23524468,  0.2015666 ,  1.        ,  0.        ,  0.        ,\n",
       "         1.        ],\n",
       "       [ 3.22632753, -0.8260813 ,  0.        ,  0.        ,  0.        ,\n",
       "         1.        ],\n",
       "       [ 3.64771182, -0.6603327 ,  0.        ,  0.        ,  0.        ,\n",
       "         1.        ],\n",
       "       ...,\n",
       "       [ 4.15458669,  0.3320507 ,  1.        ,  0.        ,  1.        ,\n",
       "         1.        ],\n",
       "       [ 3.1111892 ,  0.3320507 ,  1.        ,  0.        ,  1.        ,\n",
       "         1.        ],\n",
       "       [ 3.43402154,  0.3320507 ,  1.        ,  1.        ,  1.        ,\n",
       "         1.        ]])"
      ]
     },
     "execution_count": 13,
     "metadata": {},
     "output_type": "execute_result"
    }
   ],
   "source": [
    "dataset"
   ]
  },
  {
   "cell_type": "markdown",
   "metadata": {},
   "source": [
    "Split dataset into input features (X) and the feature we wish to predict (Y)."
   ]
  },
  {
   "cell_type": "code",
   "execution_count": 14,
   "metadata": {},
   "outputs": [],
   "source": [
    "X = dataset[:, 0:5]"
   ]
  },
  {
   "cell_type": "markdown",
   "metadata": {},
   "source": [
    "We assign the last column of our array to Y"
   ]
  },
  {
   "cell_type": "code",
   "execution_count": 15,
   "metadata": {},
   "outputs": [],
   "source": [
    "Y = dataset[:, 5]"
   ]
  },
  {
   "cell_type": "markdown",
   "metadata": {},
   "source": [
    "We first have to import the code that we want to use"
   ]
  },
  {
   "cell_type": "code",
   "execution_count": 16,
   "metadata": {},
   "outputs": [],
   "source": [
    "from sklearn import preprocessing"
   ]
  },
  {
   "cell_type": "markdown",
   "metadata": {},
   "source": [
    "We use a function called the min-max scaler, which scales the dataset so that all the input feature\n",
    "lie between 0 to 1 inclusive"
   ]
  },
  {
   "cell_type": "code",
   "execution_count": 17,
   "metadata": {},
   "outputs": [],
   "source": [
    "min_max_scaler = preprocessing.MinMaxScaler()\n",
    "X_scale = min_max_scaler.fit_transform(X)"
   ]
  },
  {
   "cell_type": "markdown",
   "metadata": {},
   "source": [
    "Our scaled dataset is stored in the array 'X_scale'."
   ]
  },
  {
   "cell_type": "code",
   "execution_count": 18,
   "metadata": {},
   "outputs": [
    {
     "data": {
      "text/plain": [
       "array([[0.42248171, 0.50881478, 1.        , 0.        , 0.        ],\n",
       "       [0.41956357, 0.20837835, 0.        , 0.        , 0.        ],\n",
       "       [0.55746208, 0.25683553, 0.        , 0.        , 0.        ],\n",
       "       ...,\n",
       "       [0.72333749, 0.54696226, 1.        , 0.        , 1.        ],\n",
       "       [0.38188441, 0.54696226, 1.        , 0.        , 1.        ],\n",
       "       [0.48753168, 0.54696226, 1.        , 1.        , 1.        ]])"
      ]
     },
     "execution_count": 18,
     "metadata": {},
     "output_type": "execute_result"
    }
   ],
   "source": [
    "X_scale"
   ]
  },
  {
   "cell_type": "markdown",
   "metadata": {},
   "source": [
    "Using of scikit-learn called 'train_test_split' "
   ]
  },
  {
   "cell_type": "code",
   "execution_count": 19,
   "metadata": {},
   "outputs": [],
   "source": [
    "from sklearn.model_selection import train_test_split"
   ]
  },
  {
   "cell_type": "markdown",
   "metadata": {},
   "source": [
    "Then, split your dataset like this"
   ]
  },
  {
   "cell_type": "code",
   "execution_count": 29,
   "metadata": {},
   "outputs": [],
   "source": [
    "X_train, X_val_and_test, Y_train, Y_val_and_test = train_test_split(X_scale, Y, test_size = 0.3)"
   ]
  },
  {
   "cell_type": "markdown",
   "metadata": {},
   "source": [
    "This tells scikit-learn that your val_and_test size will be 30% of the overall dataset"
   ]
  },
  {
   "cell_type": "markdown",
   "metadata": {},
   "source": [
    "This function only helps us split our dataset into two. "
   ]
  },
  {
   "cell_type": "code",
   "execution_count": 30,
   "metadata": {},
   "outputs": [],
   "source": [
    "X_val, X_test, Y_val, Y_test = train_test_split(X_val_and_test, Y_val_and_test, test_size = 0.5)"
   ]
  },
  {
   "cell_type": "code",
   "execution_count": 31,
   "metadata": {},
   "outputs": [
    {
     "name": "stdout",
     "output_type": "stream",
     "text": [
      "(324, 5) (69, 5) (70, 5) (324,) (69,) (70,)\n"
     ]
    }
   ],
   "source": [
    "print(X_train.shape, X_val.shape, X_test.shape, Y_train.shape, Y_val.shape, Y_test.shape)"
   ]
  },
  {
   "cell_type": "markdown",
   "metadata": {},
   "source": [
    "Keras Neural Network for Linear Regression "
   ]
  },
  {
   "cell_type": "markdown",
   "metadata": {},
   "source": [
    "Import the necessary code from Keras"
   ]
  },
  {
   "cell_type": "code",
   "execution_count": 33,
   "metadata": {},
   "outputs": [
    {
     "name": "stderr",
     "output_type": "stream",
     "text": [
      "Using TensorFlow backend.\n"
     ]
    }
   ],
   "source": [
    "from keras.models import Sequential\n",
    "from keras.layers import Dense"
   ]
  },
  {
   "cell_type": "markdown",
   "metadata": {},
   "source": [
    "Build the Keras model"
   ]
  },
  {
   "cell_type": "code",
   "execution_count": 41,
   "metadata": {},
   "outputs": [],
   "source": [
    "model = Sequential([\n",
    "    Dense(32, activation = 'relu', input_shape = (5, )),\n",
    "    Dense(32, activation = 'relu'),\n",
    "    Dense(1, activation = 'sigmoid'),\n",
    "])"
   ]
  },
  {
   "cell_type": "markdown",
   "metadata": {},
   "source": [
    "The function model.compile"
   ]
  },
  {
   "cell_type": "code",
   "execution_count": 42,
   "metadata": {},
   "outputs": [],
   "source": [
    "model.compile(optimizer='sgd',\n",
    "              loss='binary_crossentropy',\n",
    "              metrics=['accuracy'])"
   ]
  },
  {
   "cell_type": "markdown",
   "metadata": {},
   "source": [
    "Use the model.fit function to train the model with the training data set"
   ]
  },
  {
   "cell_type": "code",
   "execution_count": 43,
   "metadata": {},
   "outputs": [
    {
     "name": "stderr",
     "output_type": "stream",
     "text": [
      "W0926 22:58:57.499370 140591113238336 deprecation_wrapper.py:119] From /home/chi/anaconda3/envs/tfkerEnv/lib/python3.7/site-packages/keras/backend/tensorflow_backend.py:986: The name tf.assign_add is deprecated. Please use tf.compat.v1.assign_add instead.\n",
      "\n"
     ]
    },
    {
     "name": "stdout",
     "output_type": "stream",
     "text": [
      "Train on 324 samples, validate on 69 samples\n",
      "Epoch 1/100\n",
      "324/324 [==============================] - 3s 8ms/step - loss: 0.7324 - acc: 0.2377 - val_loss: 0.7108 - val_acc: 0.4203\n",
      "Epoch 2/100\n",
      "324/324 [==============================] - 0s 152us/step - loss: 0.7025 - acc: 0.4167 - val_loss: 0.6870 - val_acc: 0.5507\n",
      "Epoch 3/100\n",
      "324/324 [==============================] - 0s 102us/step - loss: 0.6752 - acc: 0.6512 - val_loss: 0.6664 - val_acc: 0.6667\n",
      "Epoch 4/100\n",
      "324/324 [==============================] - 0s 127us/step - loss: 0.6507 - acc: 0.7747 - val_loss: 0.6521 - val_acc: 0.6957\n",
      "Epoch 5/100\n",
      "324/324 [==============================] - 0s 111us/step - loss: 0.6329 - acc: 0.7963 - val_loss: 0.6384 - val_acc: 0.7246\n",
      "Epoch 6/100\n",
      "324/324 [==============================] - 0s 146us/step - loss: 0.6158 - acc: 0.7901 - val_loss: 0.6258 - val_acc: 0.7246\n",
      "Epoch 7/100\n",
      "324/324 [==============================] - 0s 149us/step - loss: 0.5996 - acc: 0.7901 - val_loss: 0.6156 - val_acc: 0.7246\n",
      "Epoch 8/100\n",
      "324/324 [==============================] - 0s 111us/step - loss: 0.5860 - acc: 0.7901 - val_loss: 0.6082 - val_acc: 0.7246\n",
      "Epoch 9/100\n",
      "324/324 [==============================] - 0s 151us/step - loss: 0.5760 - acc: 0.7901 - val_loss: 0.6030 - val_acc: 0.7246\n",
      "Epoch 10/100\n",
      "324/324 [==============================] - 0s 132us/step - loss: 0.5684 - acc: 0.7901 - val_loss: 0.5977 - val_acc: 0.7246\n",
      "Epoch 11/100\n",
      "324/324 [==============================] - 0s 117us/step - loss: 0.5607 - acc: 0.7901 - val_loss: 0.5931 - val_acc: 0.7246\n",
      "Epoch 12/100\n",
      "324/324 [==============================] - 0s 140us/step - loss: 0.5533 - acc: 0.7901 - val_loss: 0.5901 - val_acc: 0.7246\n",
      "Epoch 13/100\n",
      "324/324 [==============================] - 0s 105us/step - loss: 0.5479 - acc: 0.7901 - val_loss: 0.5884 - val_acc: 0.7246\n",
      "Epoch 14/100\n",
      "324/324 [==============================] - 0s 94us/step - loss: 0.5444 - acc: 0.7901 - val_loss: 0.5869 - val_acc: 0.7246\n",
      "Epoch 15/100\n",
      "324/324 [==============================] - 0s 94us/step - loss: 0.5411 - acc: 0.7901 - val_loss: 0.5853 - val_acc: 0.7246\n",
      "Epoch 16/100\n",
      "324/324 [==============================] - 0s 128us/step - loss: 0.5372 - acc: 0.7901 - val_loss: 0.5841 - val_acc: 0.7246\n",
      "Epoch 17/100\n",
      "324/324 [==============================] - 0s 99us/step - loss: 0.5339 - acc: 0.7901 - val_loss: 0.5833 - val_acc: 0.7246\n",
      "Epoch 18/100\n",
      "324/324 [==============================] - 0s 199us/step - loss: 0.5314 - acc: 0.7901 - val_loss: 0.5827 - val_acc: 0.7246\n",
      "Epoch 19/100\n",
      "324/324 [==============================] - 0s 133us/step - loss: 0.5284 - acc: 0.7901 - val_loss: 0.5824 - val_acc: 0.7246\n",
      "Epoch 20/100\n",
      "324/324 [==============================] - 0s 158us/step - loss: 0.5265 - acc: 0.7901 - val_loss: 0.5823 - val_acc: 0.7246\n",
      "Epoch 21/100\n",
      "324/324 [==============================] - 0s 144us/step - loss: 0.5243 - acc: 0.7901 - val_loss: 0.5823 - val_acc: 0.7246\n",
      "Epoch 22/100\n",
      "324/324 [==============================] - 0s 115us/step - loss: 0.5229 - acc: 0.7901 - val_loss: 0.5822 - val_acc: 0.7246\n",
      "Epoch 23/100\n",
      "324/324 [==============================] - 0s 156us/step - loss: 0.5222 - acc: 0.7901 - val_loss: 0.5825 - val_acc: 0.7246\n",
      "Epoch 24/100\n",
      "324/324 [==============================] - 0s 205us/step - loss: 0.5208 - acc: 0.7901 - val_loss: 0.5824 - val_acc: 0.7246\n",
      "Epoch 25/100\n",
      "324/324 [==============================] - 0s 151us/step - loss: 0.5203 - acc: 0.7901 - val_loss: 0.5821 - val_acc: 0.7246\n",
      "Epoch 26/100\n",
      "324/324 [==============================] - 0s 171us/step - loss: 0.5200 - acc: 0.7901 - val_loss: 0.5825 - val_acc: 0.7246\n",
      "Epoch 27/100\n",
      "324/324 [==============================] - 0s 176us/step - loss: 0.5188 - acc: 0.7901 - val_loss: 0.5823 - val_acc: 0.7246\n",
      "Epoch 28/100\n",
      "324/324 [==============================] - 0s 188us/step - loss: 0.5183 - acc: 0.7901 - val_loss: 0.5825 - val_acc: 0.7246\n",
      "Epoch 29/100\n",
      "324/324 [==============================] - 0s 167us/step - loss: 0.5176 - acc: 0.7901 - val_loss: 0.5831 - val_acc: 0.7246\n",
      "Epoch 30/100\n",
      "324/324 [==============================] - 0s 148us/step - loss: 0.5166 - acc: 0.7901 - val_loss: 0.5836 - val_acc: 0.7246\n",
      "Epoch 31/100\n",
      "324/324 [==============================] - 0s 144us/step - loss: 0.5158 - acc: 0.7901 - val_loss: 0.5839 - val_acc: 0.7246\n",
      "Epoch 32/100\n",
      "324/324 [==============================] - 0s 149us/step - loss: 0.5153 - acc: 0.7901 - val_loss: 0.5845 - val_acc: 0.7246\n",
      "Epoch 33/100\n",
      "324/324 [==============================] - 0s 153us/step - loss: 0.5149 - acc: 0.7901 - val_loss: 0.5845 - val_acc: 0.7246\n",
      "Epoch 34/100\n",
      "324/324 [==============================] - 0s 159us/step - loss: 0.5143 - acc: 0.7901 - val_loss: 0.5846 - val_acc: 0.7246\n",
      "Epoch 35/100\n",
      "324/324 [==============================] - 0s 149us/step - loss: 0.5140 - acc: 0.7901 - val_loss: 0.5847 - val_acc: 0.7246\n",
      "Epoch 36/100\n",
      "324/324 [==============================] - 0s 169us/step - loss: 0.5134 - acc: 0.7901 - val_loss: 0.5848 - val_acc: 0.7246\n",
      "Epoch 37/100\n",
      "324/324 [==============================] - 0s 112us/step - loss: 0.5131 - acc: 0.7901 - val_loss: 0.5848 - val_acc: 0.7246\n",
      "Epoch 38/100\n",
      "324/324 [==============================] - 0s 122us/step - loss: 0.5129 - acc: 0.7901 - val_loss: 0.5848 - val_acc: 0.7246\n",
      "Epoch 39/100\n",
      "324/324 [==============================] - 0s 108us/step - loss: 0.5124 - acc: 0.7901 - val_loss: 0.5853 - val_acc: 0.7246\n",
      "Epoch 40/100\n",
      "324/324 [==============================] - 0s 88us/step - loss: 0.5120 - acc: 0.7901 - val_loss: 0.5854 - val_acc: 0.7246\n",
      "Epoch 41/100\n",
      "324/324 [==============================] - 0s 117us/step - loss: 0.5116 - acc: 0.7901 - val_loss: 0.5854 - val_acc: 0.7246\n",
      "Epoch 42/100\n",
      "324/324 [==============================] - 0s 102us/step - loss: 0.5112 - acc: 0.7901 - val_loss: 0.5853 - val_acc: 0.7246\n",
      "Epoch 43/100\n",
      "324/324 [==============================] - 0s 100us/step - loss: 0.5109 - acc: 0.7901 - val_loss: 0.5854 - val_acc: 0.7246\n",
      "Epoch 44/100\n",
      "324/324 [==============================] - 0s 105us/step - loss: 0.5106 - acc: 0.7901 - val_loss: 0.5854 - val_acc: 0.7246\n",
      "Epoch 45/100\n",
      "324/324 [==============================] - 0s 93us/step - loss: 0.5103 - acc: 0.7901 - val_loss: 0.5846 - val_acc: 0.7246\n",
      "Epoch 46/100\n",
      "324/324 [==============================] - 0s 95us/step - loss: 0.5101 - acc: 0.7901 - val_loss: 0.5853 - val_acc: 0.7246\n",
      "Epoch 47/100\n",
      "324/324 [==============================] - 0s 118us/step - loss: 0.5098 - acc: 0.7901 - val_loss: 0.5860 - val_acc: 0.7246\n",
      "Epoch 48/100\n",
      "324/324 [==============================] - 0s 127us/step - loss: 0.5094 - acc: 0.7901 - val_loss: 0.5857 - val_acc: 0.7246\n",
      "Epoch 49/100\n",
      "324/324 [==============================] - 0s 114us/step - loss: 0.5091 - acc: 0.7901 - val_loss: 0.5863 - val_acc: 0.7246\n",
      "Epoch 50/100\n",
      "324/324 [==============================] - 0s 110us/step - loss: 0.5088 - acc: 0.7901 - val_loss: 0.5846 - val_acc: 0.7246\n",
      "Epoch 51/100\n",
      "324/324 [==============================] - 0s 110us/step - loss: 0.5085 - acc: 0.7901 - val_loss: 0.5850 - val_acc: 0.7246\n",
      "Epoch 52/100\n",
      "324/324 [==============================] - 0s 148us/step - loss: 0.5083 - acc: 0.7901 - val_loss: 0.5849 - val_acc: 0.7246\n",
      "Epoch 53/100\n",
      "324/324 [==============================] - 0s 101us/step - loss: 0.5078 - acc: 0.7901 - val_loss: 0.5855 - val_acc: 0.7246\n",
      "Epoch 54/100\n",
      "324/324 [==============================] - 0s 117us/step - loss: 0.5074 - acc: 0.7901 - val_loss: 0.5853 - val_acc: 0.7246\n",
      "Epoch 55/100\n",
      "324/324 [==============================] - 0s 132us/step - loss: 0.5072 - acc: 0.7901 - val_loss: 0.5851 - val_acc: 0.7246\n",
      "Epoch 56/100\n",
      "324/324 [==============================] - 0s 137us/step - loss: 0.5068 - acc: 0.7901 - val_loss: 0.5849 - val_acc: 0.7246\n",
      "Epoch 57/100\n",
      "324/324 [==============================] - 0s 106us/step - loss: 0.5066 - acc: 0.7901 - val_loss: 0.5848 - val_acc: 0.7246\n",
      "Epoch 58/100\n",
      "324/324 [==============================] - 0s 141us/step - loss: 0.5062 - acc: 0.7901 - val_loss: 0.5853 - val_acc: 0.7246\n",
      "Epoch 59/100\n",
      "324/324 [==============================] - 0s 100us/step - loss: 0.5060 - acc: 0.7901 - val_loss: 0.5861 - val_acc: 0.7246\n",
      "Epoch 60/100\n",
      "324/324 [==============================] - 0s 114us/step - loss: 0.5057 - acc: 0.7901 - val_loss: 0.5865 - val_acc: 0.7246\n",
      "Epoch 61/100\n"
     ]
    },
    {
     "name": "stdout",
     "output_type": "stream",
     "text": [
      "324/324 [==============================] - 0s 142us/step - loss: 0.5056 - acc: 0.7901 - val_loss: 0.5854 - val_acc: 0.7246\n",
      "Epoch 62/100\n",
      "324/324 [==============================] - 0s 101us/step - loss: 0.5053 - acc: 0.7901 - val_loss: 0.5859 - val_acc: 0.7246\n",
      "Epoch 63/100\n",
      "324/324 [==============================] - 0s 97us/step - loss: 0.5051 - acc: 0.7901 - val_loss: 0.5855 - val_acc: 0.7246\n",
      "Epoch 64/100\n",
      "324/324 [==============================] - 0s 90us/step - loss: 0.5047 - acc: 0.7901 - val_loss: 0.5845 - val_acc: 0.7246\n",
      "Epoch 65/100\n",
      "324/324 [==============================] - 0s 87us/step - loss: 0.5044 - acc: 0.7901 - val_loss: 0.5850 - val_acc: 0.7246\n",
      "Epoch 66/100\n",
      "324/324 [==============================] - 0s 112us/step - loss: 0.5041 - acc: 0.7901 - val_loss: 0.5839 - val_acc: 0.7246\n",
      "Epoch 67/100\n",
      "324/324 [==============================] - 0s 106us/step - loss: 0.5039 - acc: 0.7901 - val_loss: 0.5832 - val_acc: 0.7246\n",
      "Epoch 68/100\n",
      "324/324 [==============================] - 0s 103us/step - loss: 0.5036 - acc: 0.7901 - val_loss: 0.5840 - val_acc: 0.7246\n",
      "Epoch 69/100\n",
      "324/324 [==============================] - 0s 119us/step - loss: 0.5034 - acc: 0.7901 - val_loss: 0.5839 - val_acc: 0.7246\n",
      "Epoch 70/100\n",
      "324/324 [==============================] - 0s 99us/step - loss: 0.5031 - acc: 0.7901 - val_loss: 0.5840 - val_acc: 0.7246\n",
      "Epoch 71/100\n",
      "324/324 [==============================] - 0s 91us/step - loss: 0.5031 - acc: 0.7901 - val_loss: 0.5831 - val_acc: 0.7246\n",
      "Epoch 72/100\n",
      "324/324 [==============================] - 0s 93us/step - loss: 0.5030 - acc: 0.7901 - val_loss: 0.5836 - val_acc: 0.7246\n",
      "Epoch 73/100\n",
      "324/324 [==============================] - 0s 101us/step - loss: 0.5026 - acc: 0.7901 - val_loss: 0.5834 - val_acc: 0.7246\n",
      "Epoch 74/100\n",
      "324/324 [==============================] - 0s 90us/step - loss: 0.5022 - acc: 0.7901 - val_loss: 0.5841 - val_acc: 0.7246\n",
      "Epoch 75/100\n",
      "324/324 [==============================] - 0s 105us/step - loss: 0.5019 - acc: 0.7901 - val_loss: 0.5847 - val_acc: 0.7246\n",
      "Epoch 76/100\n",
      "324/324 [==============================] - 0s 103us/step - loss: 0.5018 - acc: 0.7901 - val_loss: 0.5844 - val_acc: 0.7246\n",
      "Epoch 77/100\n",
      "324/324 [==============================] - 0s 93us/step - loss: 0.5015 - acc: 0.7901 - val_loss: 0.5841 - val_acc: 0.7246\n",
      "Epoch 78/100\n",
      "324/324 [==============================] - 0s 86us/step - loss: 0.5013 - acc: 0.7901 - val_loss: 0.5847 - val_acc: 0.7246\n",
      "Epoch 79/100\n",
      "324/324 [==============================] - 0s 117us/step - loss: 0.5010 - acc: 0.7901 - val_loss: 0.5851 - val_acc: 0.7246\n",
      "Epoch 80/100\n",
      "324/324 [==============================] - 0s 114us/step - loss: 0.5008 - acc: 0.7901 - val_loss: 0.5839 - val_acc: 0.7246\n",
      "Epoch 81/100\n",
      "324/324 [==============================] - 0s 109us/step - loss: 0.5004 - acc: 0.7901 - val_loss: 0.5838 - val_acc: 0.7246\n",
      "Epoch 82/100\n",
      "324/324 [==============================] - 0s 102us/step - loss: 0.5003 - acc: 0.7901 - val_loss: 0.5843 - val_acc: 0.7246\n",
      "Epoch 83/100\n",
      "324/324 [==============================] - 0s 98us/step - loss: 0.5002 - acc: 0.7901 - val_loss: 0.5841 - val_acc: 0.7246\n",
      "Epoch 84/100\n",
      "324/324 [==============================] - 0s 106us/step - loss: 0.5000 - acc: 0.7901 - val_loss: 0.5837 - val_acc: 0.7246\n",
      "Epoch 85/100\n",
      "324/324 [==============================] - 0s 109us/step - loss: 0.4995 - acc: 0.7901 - val_loss: 0.5844 - val_acc: 0.7246\n",
      "Epoch 86/100\n",
      "324/324 [==============================] - 0s 103us/step - loss: 0.4994 - acc: 0.7901 - val_loss: 0.5842 - val_acc: 0.7246\n",
      "Epoch 87/100\n",
      "324/324 [==============================] - 0s 94us/step - loss: 0.4992 - acc: 0.7901 - val_loss: 0.5838 - val_acc: 0.7246\n",
      "Epoch 88/100\n",
      "324/324 [==============================] - 0s 113us/step - loss: 0.4990 - acc: 0.7901 - val_loss: 0.5821 - val_acc: 0.7246\n",
      "Epoch 89/100\n",
      "324/324 [==============================] - 0s 104us/step - loss: 0.4988 - acc: 0.7901 - val_loss: 0.5829 - val_acc: 0.7246\n",
      "Epoch 90/100\n",
      "324/324 [==============================] - 0s 90us/step - loss: 0.4985 - acc: 0.7901 - val_loss: 0.5835 - val_acc: 0.7246\n",
      "Epoch 91/100\n",
      "324/324 [==============================] - 0s 87us/step - loss: 0.4982 - acc: 0.7901 - val_loss: 0.5831 - val_acc: 0.7246\n",
      "Epoch 92/100\n",
      "324/324 [==============================] - 0s 103us/step - loss: 0.4982 - acc: 0.7901 - val_loss: 0.5838 - val_acc: 0.7246\n",
      "Epoch 93/100\n",
      "324/324 [==============================] - 0s 130us/step - loss: 0.4979 - acc: 0.7901 - val_loss: 0.5836 - val_acc: 0.7246\n",
      "Epoch 94/100\n",
      "324/324 [==============================] - 0s 90us/step - loss: 0.4976 - acc: 0.7901 - val_loss: 0.5832 - val_acc: 0.7246\n",
      "Epoch 95/100\n",
      "324/324 [==============================] - 0s 105us/step - loss: 0.4974 - acc: 0.7901 - val_loss: 0.5823 - val_acc: 0.7246\n",
      "Epoch 96/100\n",
      "324/324 [==============================] - 0s 110us/step - loss: 0.4973 - acc: 0.7901 - val_loss: 0.5822 - val_acc: 0.7246\n",
      "Epoch 97/100\n",
      "324/324 [==============================] - 0s 111us/step - loss: 0.4969 - acc: 0.7901 - val_loss: 0.5827 - val_acc: 0.7246\n",
      "Epoch 98/100\n",
      "324/324 [==============================] - 0s 105us/step - loss: 0.4967 - acc: 0.7901 - val_loss: 0.5833 - val_acc: 0.7246\n",
      "Epoch 99/100\n",
      "324/324 [==============================] - 0s 114us/step - loss: 0.4966 - acc: 0.7901 - val_loss: 0.5840 - val_acc: 0.7246\n",
      "Epoch 100/100\n",
      "324/324 [==============================] - 0s 105us/step - loss: 0.4963 - acc: 0.7901 - val_loss: 0.5828 - val_acc: 0.7246\n"
     ]
    }
   ],
   "source": [
    "hist = model.fit(X_train, Y_train,\n",
    "          batch_size=32, epochs=100,\n",
    "          validation_data=(X_val, Y_val))"
   ]
  },
  {
   "cell_type": "markdown",
   "metadata": {},
   "source": [
    "Evaluate it on the test set."
   ]
  },
  {
   "cell_type": "code",
   "execution_count": 44,
   "metadata": {},
   "outputs": [
    {
     "name": "stdout",
     "output_type": "stream",
     "text": [
      "70/70 [==============================] - 0s 158us/step\n"
     ]
    },
    {
     "data": {
      "text/plain": [
       "0.7857142874172756"
      ]
     },
     "execution_count": 44,
     "metadata": {},
     "output_type": "execute_result"
    }
   ],
   "source": [
    "model.evaluate(X_test, Y_test)[1]"
   ]
  },
  {
   "cell_type": "markdown",
   "metadata": {},
   "source": [
    "Visualizing Loss and Accuracy"
   ]
  },
  {
   "cell_type": "markdown",
   "metadata": {},
   "source": [
    "The package matplotlib"
   ]
  },
  {
   "cell_type": "code",
   "execution_count": 45,
   "metadata": {},
   "outputs": [],
   "source": [
    "import matplotlib.pyplot as plt"
   ]
  },
  {
   "cell_type": "markdown",
   "metadata": {},
   "source": [
    "visualize the training loss and the validation loss"
   ]
  },
  {
   "cell_type": "code",
   "execution_count": 46,
   "metadata": {},
   "outputs": [
    {
     "data": {
      "image/png": "[encoded data removed]",
      "text/plain": [
       "<Figure size 432x288 with 1 Axes>"
      ]
     },
     "metadata": {
      "needs_background": "light"
     },
     "output_type": "display_data"
    }
   ],
   "source": [
    "plt.plot(hist.history['loss'])\n",
    "plt.plot(hist.history['val_loss'])\n",
    "plt.title('Model loss')\n",
    "plt.ylabel('loss')\n",
    "plt.xlabel('Epoch')\n",
    "plt.legend(['Train', 'val'], loc = 'upper right')\n",
    "plt.show()"
   ]
  },
  {
   "cell_type": "markdown",
   "metadata": {},
   "source": [
    "We can do the same to plot our training accuracy and validation accuracy"
   ]
  },
  {
   "cell_type": "code",
   "execution_count": 48,
   "metadata": {},
   "outputs": [
    {
     "data": {
      "image/png": "[encoded data removed]",
      "text/plain": [
       "<Figure size 432x288 with 1 Axes>"
      ]
     },
     "metadata": {
      "needs_background": "light"
     },
     "output_type": "display_data"
    }
   ],
   "source": [
    "plt.plot(hist.history['acc'])\n",
    "plt.plot(hist.history['val_acc'])\n",
    "plt.title('Model accuracy')\n",
    "plt.ylabel('Accuracy')\n",
    "plt.xlabel('Epoch')\n",
    "\n",
    "plt.legend(['Train', 'val'], loc = 'lower right')\n",
    "plt.show()"
   ]
  },
  {
   "cell_type": "markdown",
   "metadata": {},
   "source": [
    "Activation Regularization to our Neural Network"
   ]
  },
  {
   "cell_type": "markdown",
   "metadata": {},
   "source": [
    "Introducing regularization to neural network. Then call Model 2"
   ]
  },
  {
   "cell_type": "code",
   "execution_count": 49,
   "metadata": {},
   "outputs": [],
   "source": [
    "model_2 = Sequential([\n",
    "    Dense(1000, activation='relu', input_shape=(5,)),\n",
    "    Dense(1000, activation='relu'),\n",
    "    Dense(1000, activation='relu'),\n",
    "    Dense(1000, activation='relu'),\n",
    "    Dense(1, activation='sigmoid'),\n",
    "]) \n",
    "\n",
    "\n"
   ]
  },
  {
   "cell_type": "code",
   "execution_count": 50,
   "metadata": {},
   "outputs": [],
   "source": [
    "model_2.compile(optimizer='adam',\n",
    "              loss='binary_crossentropy',\n",
    "              metrics=['accuracy'])"
   ]
  },
  {
   "cell_type": "markdown",
   "metadata": {},
   "source": [
    "Plot the loss graphs for hist_2"
   ]
  },
  {
   "cell_type": "code",
   "execution_count": 51,
   "metadata": {},
   "outputs": [
    {
     "name": "stdout",
     "output_type": "stream",
     "text": [
      "Train on 324 samples, validate on 69 samples\n",
      "Epoch 1/100\n",
      "324/324 [==============================] - 2s 6ms/step - loss: 0.6461 - acc: 0.7840 - val_loss: 0.6014 - val_acc: 0.7246\n",
      "Epoch 2/100\n",
      "324/324 [==============================] - 1s 3ms/step - loss: 0.5252 - acc: 0.7901 - val_loss: 0.6197 - val_acc: 0.7246\n",
      "Epoch 3/100\n",
      "324/324 [==============================] - 1s 3ms/step - loss: 0.4882 - acc: 0.7901 - val_loss: 0.5791 - val_acc: 0.7246\n",
      "Epoch 4/100\n",
      "324/324 [==============================] - 1s 3ms/step - loss: 0.4710 - acc: 0.7901 - val_loss: 0.5477 - val_acc: 0.7246\n",
      "Epoch 5/100\n",
      "324/324 [==============================] - 1s 3ms/step - loss: 0.4836 - acc: 0.7901 - val_loss: 0.5452 - val_acc: 0.7246\n",
      "Epoch 6/100\n",
      "324/324 [==============================] - 1s 3ms/step - loss: 0.4550 - acc: 0.7901 - val_loss: 0.6013 - val_acc: 0.7246\n",
      "Epoch 7/100\n",
      "324/324 [==============================] - 1s 3ms/step - loss: 0.4673 - acc: 0.7901 - val_loss: 0.5167 - val_acc: 0.7246\n",
      "Epoch 8/100\n",
      "324/324 [==============================] - 1s 3ms/step - loss: 0.4422 - acc: 0.7901 - val_loss: 0.5722 - val_acc: 0.7246\n",
      "Epoch 9/100\n",
      "324/324 [==============================] - 1s 3ms/step - loss: 0.4525 - acc: 0.7901 - val_loss: 0.5249 - val_acc: 0.7246\n",
      "Epoch 10/100\n",
      "324/324 [==============================] - 1s 3ms/step - loss: 0.4443 - acc: 0.7901 - val_loss: 0.5120 - val_acc: 0.7246\n",
      "Epoch 11/100\n",
      "324/324 [==============================] - 1s 3ms/step - loss: 0.4465 - acc: 0.7901 - val_loss: 0.5477 - val_acc: 0.7246\n",
      "Epoch 12/100\n",
      "324/324 [==============================] - 1s 2ms/step - loss: 0.4328 - acc: 0.7901 - val_loss: 0.5201 - val_acc: 0.7246\n",
      "Epoch 13/100\n",
      "324/324 [==============================] - 1s 3ms/step - loss: 0.4277 - acc: 0.7901 - val_loss: 0.5010 - val_acc: 0.7246\n",
      "Epoch 14/100\n",
      "324/324 [==============================] - 1s 3ms/step - loss: 0.4280 - acc: 0.7901 - val_loss: 0.5246 - val_acc: 0.7246\n",
      "Epoch 15/100\n",
      "324/324 [==============================] - 1s 3ms/step - loss: 0.4322 - acc: 0.7901 - val_loss: 0.4999 - val_acc: 0.7246\n",
      "Epoch 16/100\n",
      "324/324 [==============================] - 1s 3ms/step - loss: 0.4151 - acc: 0.7901 - val_loss: 0.5046 - val_acc: 0.7246\n",
      "Epoch 17/100\n",
      "324/324 [==============================] - 1s 3ms/step - loss: 0.4167 - acc: 0.7901 - val_loss: 0.4722 - val_acc: 0.7246\n",
      "Epoch 18/100\n",
      "324/324 [==============================] - 1s 2ms/step - loss: 0.4196 - acc: 0.7901 - val_loss: 0.4969 - val_acc: 0.7246\n",
      "Epoch 19/100\n",
      "324/324 [==============================] - 1s 2ms/step - loss: 0.4180 - acc: 0.7840 - val_loss: 0.5068 - val_acc: 0.7536\n",
      "Epoch 20/100\n",
      "324/324 [==============================] - 1s 3ms/step - loss: 0.4506 - acc: 0.7438 - val_loss: 0.5841 - val_acc: 0.7246\n",
      "Epoch 21/100\n",
      "324/324 [==============================] - 1s 2ms/step - loss: 0.4298 - acc: 0.7901 - val_loss: 0.4789 - val_acc: 0.7246\n",
      "Epoch 22/100\n",
      "324/324 [==============================] - 1s 2ms/step - loss: 0.4421 - acc: 0.7932 - val_loss: 0.4805 - val_acc: 0.7246\n",
      "Epoch 23/100\n",
      "324/324 [==============================] - 1s 2ms/step - loss: 0.4409 - acc: 0.7963 - val_loss: 0.5010 - val_acc: 0.7246\n",
      "Epoch 24/100\n",
      "324/324 [==============================] - 1s 2ms/step - loss: 0.4485 - acc: 0.7963 - val_loss: 0.5161 - val_acc: 0.7391\n",
      "Epoch 25/100\n",
      "324/324 [==============================] - 1s 3ms/step - loss: 0.4291 - acc: 0.7994 - val_loss: 0.5120 - val_acc: 0.7246\n",
      "Epoch 26/100\n",
      "324/324 [==============================] - 1s 2ms/step - loss: 0.4174 - acc: 0.8117 - val_loss: 0.4588 - val_acc: 0.7536\n",
      "Epoch 27/100\n",
      "324/324 [==============================] - 1s 3ms/step - loss: 0.4032 - acc: 0.8117 - val_loss: 0.4737 - val_acc: 0.7536\n",
      "Epoch 28/100\n",
      "324/324 [==============================] - 1s 2ms/step - loss: 0.3878 - acc: 0.8333 - val_loss: 0.4971 - val_acc: 0.7681\n",
      "Epoch 29/100\n",
      "324/324 [==============================] - 1s 3ms/step - loss: 0.3964 - acc: 0.8333 - val_loss: 0.4371 - val_acc: 0.7536\n",
      "Epoch 30/100\n",
      "324/324 [==============================] - 1s 3ms/step - loss: 0.4204 - acc: 0.7870 - val_loss: 0.4597 - val_acc: 0.7536\n",
      "Epoch 31/100\n",
      "324/324 [==============================] - 1s 3ms/step - loss: 0.4044 - acc: 0.8333 - val_loss: 0.4433 - val_acc: 0.7681\n",
      "Epoch 32/100\n",
      "324/324 [==============================] - 1s 3ms/step - loss: 0.3932 - acc: 0.8241 - val_loss: 0.4692 - val_acc: 0.7536\n",
      "Epoch 33/100\n",
      "324/324 [==============================] - 1s 4ms/step - loss: 0.3945 - acc: 0.8272 - val_loss: 0.4707 - val_acc: 0.7536\n",
      "Epoch 34/100\n",
      "324/324 [==============================] - 1s 4ms/step - loss: 0.3961 - acc: 0.8117 - val_loss: 0.4374 - val_acc: 0.7536\n",
      "Epoch 35/100\n",
      "324/324 [==============================] - 1s 4ms/step - loss: 0.4072 - acc: 0.8025 - val_loss: 0.4397 - val_acc: 0.7391\n",
      "Epoch 36/100\n",
      "324/324 [==============================] - 1s 3ms/step - loss: 0.3923 - acc: 0.8179 - val_loss: 0.4566 - val_acc: 0.7391\n",
      "Epoch 37/100\n",
      "324/324 [==============================] - 1s 3ms/step - loss: 0.3817 - acc: 0.8272 - val_loss: 0.4564 - val_acc: 0.7681\n",
      "Epoch 38/100\n",
      "324/324 [==============================] - 1s 3ms/step - loss: 0.3761 - acc: 0.8210 - val_loss: 0.4549 - val_acc: 0.7536\n",
      "Epoch 39/100\n",
      "324/324 [==============================] - 1s 3ms/step - loss: 0.3675 - acc: 0.8395 - val_loss: 0.4170 - val_acc: 0.7826\n",
      "Epoch 40/100\n",
      "324/324 [==============================] - 1s 3ms/step - loss: 0.3764 - acc: 0.8179 - val_loss: 0.4733 - val_acc: 0.7246\n",
      "Epoch 41/100\n",
      "324/324 [==============================] - 1s 3ms/step - loss: 0.3794 - acc: 0.8117 - val_loss: 0.4672 - val_acc: 0.7391\n",
      "Epoch 42/100\n",
      "324/324 [==============================] - 1s 2ms/step - loss: 0.3943 - acc: 0.7963 - val_loss: 0.4726 - val_acc: 0.7536\n",
      "Epoch 43/100\n",
      "324/324 [==============================] - 1s 2ms/step - loss: 0.4087 - acc: 0.7963 - val_loss: 0.4725 - val_acc: 0.7101\n",
      "Epoch 44/100\n",
      "324/324 [==============================] - 1s 2ms/step - loss: 0.3955 - acc: 0.7932 - val_loss: 0.4934 - val_acc: 0.7391\n",
      "Epoch 45/100\n",
      "324/324 [==============================] - 1s 3ms/step - loss: 0.3857 - acc: 0.8179 - val_loss: 0.4466 - val_acc: 0.7536\n",
      "Epoch 46/100\n",
      "324/324 [==============================] - 1s 2ms/step - loss: 0.3783 - acc: 0.8272 - val_loss: 0.4688 - val_acc: 0.7391\n",
      "Epoch 47/100\n",
      "324/324 [==============================] - 1s 3ms/step - loss: 0.3641 - acc: 0.8333 - val_loss: 0.4675 - val_acc: 0.7681\n",
      "Epoch 48/100\n",
      "324/324 [==============================] - 1s 2ms/step - loss: 0.4032 - acc: 0.8241 - val_loss: 0.4913 - val_acc: 0.7391\n",
      "Epoch 49/100\n",
      "324/324 [==============================] - 1s 3ms/step - loss: 0.3902 - acc: 0.8272 - val_loss: 0.4943 - val_acc: 0.7681\n",
      "Epoch 50/100\n",
      "324/324 [==============================] - 1s 3ms/step - loss: 0.3669 - acc: 0.8364 - val_loss: 0.5515 - val_acc: 0.7536\n",
      "Epoch 51/100\n",
      "324/324 [==============================] - 1s 3ms/step - loss: 0.3661 - acc: 0.8302 - val_loss: 0.4335 - val_acc: 0.7536\n",
      "Epoch 52/100\n",
      "324/324 [==============================] - 1s 3ms/step - loss: 0.3642 - acc: 0.8426 - val_loss: 0.4957 - val_acc: 0.7536\n",
      "Epoch 53/100\n",
      "324/324 [==============================] - 1s 3ms/step - loss: 0.3657 - acc: 0.8364 - val_loss: 0.5034 - val_acc: 0.7536\n",
      "Epoch 54/100\n",
      "324/324 [==============================] - 1s 4ms/step - loss: 0.3479 - acc: 0.8457 - val_loss: 0.4868 - val_acc: 0.7536\n",
      "Epoch 55/100\n",
      "324/324 [==============================] - 1s 3ms/step - loss: 0.3521 - acc: 0.8426 - val_loss: 0.4234 - val_acc: 0.7536\n",
      "Epoch 56/100\n",
      "324/324 [==============================] - 1s 3ms/step - loss: 0.3971 - acc: 0.8426 - val_loss: 0.4884 - val_acc: 0.7391\n",
      "Epoch 57/100\n",
      "324/324 [==============================] - 1s 3ms/step - loss: 0.3951 - acc: 0.8241 - val_loss: 0.5412 - val_acc: 0.7246\n",
      "Epoch 58/100\n",
      "324/324 [==============================] - 1s 3ms/step - loss: 0.3961 - acc: 0.8179 - val_loss: 0.5115 - val_acc: 0.7536\n",
      "Epoch 59/100\n",
      "324/324 [==============================] - 1s 3ms/step - loss: 0.3494 - acc: 0.8457 - val_loss: 0.4831 - val_acc: 0.7536\n",
      "Epoch 60/100\n",
      "324/324 [==============================] - 1s 3ms/step - loss: 0.3315 - acc: 0.8519 - val_loss: 0.4913 - val_acc: 0.7536\n",
      "Epoch 61/100\n",
      "324/324 [==============================] - 1s 3ms/step - loss: 0.3439 - acc: 0.8488 - val_loss: 0.5765 - val_acc: 0.7391\n"
     ]
    },
    {
     "name": "stdout",
     "output_type": "stream",
     "text": [
      "Epoch 62/100\n",
      "324/324 [==============================] - 1s 3ms/step - loss: 0.3561 - acc: 0.8488 - val_loss: 0.4497 - val_acc: 0.7681\n",
      "Epoch 63/100\n",
      "324/324 [==============================] - 1s 3ms/step - loss: 0.3382 - acc: 0.8457 - val_loss: 0.4992 - val_acc: 0.7536\n",
      "Epoch 64/100\n",
      "324/324 [==============================] - 1s 3ms/step - loss: 0.3359 - acc: 0.8426 - val_loss: 0.5043 - val_acc: 0.7391\n",
      "Epoch 65/100\n",
      "324/324 [==============================] - 1s 3ms/step - loss: 0.3395 - acc: 0.8457 - val_loss: 0.5169 - val_acc: 0.7536\n",
      "Epoch 66/100\n",
      "324/324 [==============================] - 1s 3ms/step - loss: 0.3887 - acc: 0.8302 - val_loss: 0.5139 - val_acc: 0.7391\n",
      "Epoch 67/100\n",
      "324/324 [==============================] - 1s 3ms/step - loss: 0.3445 - acc: 0.8519 - val_loss: 0.4904 - val_acc: 0.7536\n",
      "Epoch 68/100\n",
      "324/324 [==============================] - 1s 3ms/step - loss: 0.3205 - acc: 0.8519 - val_loss: 0.4589 - val_acc: 0.7536\n",
      "Epoch 69/100\n",
      "324/324 [==============================] - 1s 3ms/step - loss: 0.3133 - acc: 0.8488 - val_loss: 0.5268 - val_acc: 0.7536\n",
      "Epoch 70/100\n",
      "324/324 [==============================] - 1s 3ms/step - loss: 0.3753 - acc: 0.8364 - val_loss: 0.4077 - val_acc: 0.7681\n",
      "Epoch 71/100\n",
      "324/324 [==============================] - 1s 3ms/step - loss: 0.3362 - acc: 0.8333 - val_loss: 0.4261 - val_acc: 0.7681\n",
      "Epoch 72/100\n",
      "324/324 [==============================] - 1s 3ms/step - loss: 0.3270 - acc: 0.8426 - val_loss: 0.4893 - val_acc: 0.7536\n",
      "Epoch 73/100\n",
      "324/324 [==============================] - 1s 3ms/step - loss: 0.3219 - acc: 0.8488 - val_loss: 0.4327 - val_acc: 0.7536\n",
      "Epoch 74/100\n",
      "324/324 [==============================] - 1s 3ms/step - loss: 0.3030 - acc: 0.8549 - val_loss: 0.4672 - val_acc: 0.7536\n",
      "Epoch 75/100\n",
      "324/324 [==============================] - 1s 3ms/step - loss: 0.3230 - acc: 0.8519 - val_loss: 0.4756 - val_acc: 0.7246\n",
      "Epoch 76/100\n",
      "324/324 [==============================] - 1s 3ms/step - loss: 0.3165 - acc: 0.8673 - val_loss: 0.4505 - val_acc: 0.7536\n",
      "Epoch 77/100\n",
      "324/324 [==============================] - 1s 3ms/step - loss: 0.3241 - acc: 0.8457 - val_loss: 0.4793 - val_acc: 0.7536\n",
      "Epoch 78/100\n",
      "324/324 [==============================] - 1s 3ms/step - loss: 0.3150 - acc: 0.8549 - val_loss: 0.5037 - val_acc: 0.7391\n",
      "Epoch 79/100\n",
      "324/324 [==============================] - 1s 3ms/step - loss: 0.3338 - acc: 0.8488 - val_loss: 0.5311 - val_acc: 0.7536\n",
      "Epoch 80/100\n",
      "324/324 [==============================] - 1s 3ms/step - loss: 0.3224 - acc: 0.8426 - val_loss: 0.4710 - val_acc: 0.7536\n",
      "Epoch 81/100\n",
      "324/324 [==============================] - 1s 3ms/step - loss: 0.3463 - acc: 0.8519 - val_loss: 0.4878 - val_acc: 0.7246\n",
      "Epoch 82/100\n",
      "324/324 [==============================] - 1s 3ms/step - loss: 0.3392 - acc: 0.8241 - val_loss: 0.4266 - val_acc: 0.7391\n",
      "Epoch 83/100\n",
      "324/324 [==============================] - 1s 3ms/step - loss: 0.3394 - acc: 0.8457 - val_loss: 0.4969 - val_acc: 0.7391\n",
      "Epoch 84/100\n",
      "324/324 [==============================] - 1s 3ms/step - loss: 0.3192 - acc: 0.8488 - val_loss: 0.5497 - val_acc: 0.7536\n",
      "Epoch 85/100\n",
      "324/324 [==============================] - 1s 3ms/step - loss: 0.3244 - acc: 0.8488 - val_loss: 0.5484 - val_acc: 0.7536\n",
      "Epoch 86/100\n",
      "324/324 [==============================] - 1s 3ms/step - loss: 0.3053 - acc: 0.8549 - val_loss: 0.4529 - val_acc: 0.7536\n",
      "Epoch 87/100\n",
      "324/324 [==============================] - 1s 3ms/step - loss: 0.2985 - acc: 0.8488 - val_loss: 0.5128 - val_acc: 0.7536\n",
      "Epoch 88/100\n",
      "324/324 [==============================] - 1s 3ms/step - loss: 0.2960 - acc: 0.8549 - val_loss: 0.5415 - val_acc: 0.7536\n",
      "Epoch 89/100\n",
      "324/324 [==============================] - 1s 3ms/step - loss: 0.2888 - acc: 0.8519 - val_loss: 0.4720 - val_acc: 0.7536\n",
      "Epoch 90/100\n",
      "324/324 [==============================] - 1s 3ms/step - loss: 0.3025 - acc: 0.8580 - val_loss: 0.5882 - val_acc: 0.7536\n",
      "Epoch 91/100\n",
      "324/324 [==============================] - 1s 3ms/step - loss: 0.3193 - acc: 0.8519 - val_loss: 0.5447 - val_acc: 0.7391\n",
      "Epoch 92/100\n",
      "324/324 [==============================] - 1s 3ms/step - loss: 0.3243 - acc: 0.8488 - val_loss: 0.5427 - val_acc: 0.7391\n",
      "Epoch 93/100\n",
      "324/324 [==============================] - 1s 3ms/step - loss: 0.2980 - acc: 0.8611 - val_loss: 0.5038 - val_acc: 0.7536\n",
      "Epoch 94/100\n",
      "324/324 [==============================] - 1s 3ms/step - loss: 0.3492 - acc: 0.8241 - val_loss: 0.4727 - val_acc: 0.7246\n",
      "Epoch 95/100\n",
      "324/324 [==============================] - 1s 3ms/step - loss: 0.3700 - acc: 0.8272 - val_loss: 0.4102 - val_acc: 0.7536\n",
      "Epoch 96/100\n",
      "324/324 [==============================] - 1s 3ms/step - loss: 0.3390 - acc: 0.8333 - val_loss: 0.4004 - val_acc: 0.7536\n",
      "Epoch 97/100\n",
      "324/324 [==============================] - 1s 3ms/step - loss: 0.3242 - acc: 0.8333 - val_loss: 0.3897 - val_acc: 0.7536\n",
      "Epoch 98/100\n",
      "324/324 [==============================] - 1s 3ms/step - loss: 0.3158 - acc: 0.8333 - val_loss: 0.3748 - val_acc: 0.7536\n",
      "Epoch 99/100\n",
      "324/324 [==============================] - 1s 3ms/step - loss: 0.3066 - acc: 0.8333 - val_loss: 0.4097 - val_acc: 0.7536\n",
      "Epoch 100/100\n",
      "324/324 [==============================] - 1s 3ms/step - loss: 0.3078 - acc: 0.8426 - val_loss: 0.3822 - val_acc: 0.7681\n"
     ]
    }
   ],
   "source": [
    "hist_2 = model_2.fit(X_train, Y_train,\n",
    "          batch_size=32, epochs=100,\n",
    "          validation_data=(X_val, Y_val))"
   ]
  },
  {
   "cell_type": "code",
   "execution_count": 52,
   "metadata": {},
   "outputs": [
    {
     "data": {
      "image/png": "[encoded data removed]",
      "text/plain": [
       "<Figure size 432x288 with 1 Axes>"
      ]
     },
     "metadata": {
      "needs_background": "light"
     },
     "output_type": "display_data"
    }
   ],
   "source": [
    "plt.plot(hist_2.history['loss'])\n",
    "plt.plot(hist_2.history['val_loss'])\n",
    "plt.title('Model loss')\n",
    "plt.ylabel('Loss')\n",
    "plt.xlabel('Epoch')\n",
    "plt.legend(['Train', 'Val'], loc='upper right')\n",
    "plt.show()"
   ]
  },
  {
   "cell_type": "code",
   "execution_count": 53,
   "metadata": {},
   "outputs": [
    {
     "data": {
      "image/png": "[encoded data removed]",
      "text/plain": [
       "<Figure size 432x288 with 1 Axes>"
      ]
     },
     "metadata": {
      "needs_background": "light"
     },
     "output_type": "display_data"
    }
   ],
   "source": [
    "plt.plot(hist_2.history['acc'])\n",
    "plt.plot(hist_2.history['val_acc'])\n",
    "plt.title('Model accuracy')\n",
    "plt.ylabel('Accuracy')\n",
    "plt.xlabel('Epoch')\n",
    "plt.legend(['Train', 'Val'], loc='lower right')\n",
    "plt.show()"
   ]
  },
  {
   "cell_type": "markdown",
   "metadata": {},
   "source": [
    "import L2 regularization and dropout:"
   ]
  },
  {
   "cell_type": "code",
   "execution_count": 54,
   "metadata": {},
   "outputs": [],
   "source": [
    "from keras.layers import Dropout\n",
    "from keras import regularizers"
   ]
  },
  {
   "cell_type": "markdown",
   "metadata": {},
   "source": [
    "specify our third model like this"
   ]
  },
  {
   "cell_type": "code",
   "execution_count": 55,
   "metadata": {},
   "outputs": [
    {
     "name": "stderr",
     "output_type": "stream",
     "text": [
      "W0926 23:21:36.839733 140591113238336 deprecation.py:506] From /home/chi/anaconda3/envs/tfkerEnv/lib/python3.7/site-packages/keras/backend/tensorflow_backend.py:3445: calling dropout (from tensorflow.python.ops.nn_ops) with keep_prob is deprecated and will be removed in a future version.\n",
      "Instructions for updating:\n",
      "Please use `rate` instead of `keep_prob`. Rate should be set to `rate = 1 - keep_prob`.\n"
     ]
    }
   ],
   "source": [
    "model_3 = Sequential([\n",
    "    Dense(1000, activation='relu', kernel_regularizer=regularizers.l2(0.01), input_shape=(5,)),\n",
    "    Dropout(0.3),\n",
    "    Dense(1000, activation='relu', kernel_regularizer=regularizers.l2(0.01)),\n",
    "    Dropout(0.3),\n",
    "    Dense(1000, activation='relu', kernel_regularizer=regularizers.l2(0.01)),\n",
    "    Dropout(0.3),\n",
    "    Dense(1000, activation='relu', kernel_regularizer=regularizers.l2(0.01)),\n",
    "    Dropout(0.3),\n",
    "    Dense(1, activation='sigmoid', kernel_regularizer=regularizers.l2(0.01)),\n",
    "])"
   ]
  },
  {
   "cell_type": "code",
   "execution_count": null,
   "metadata": {},
   "outputs": [],
   "source": [
    "Use model.compile"
   ]
  },
  {
   "cell_type": "code",
   "execution_count": 56,
   "metadata": {},
   "outputs": [
    {
     "name": "stdout",
     "output_type": "stream",
     "text": [
      "Train on 324 samples, validate on 69 samples\n",
      "Epoch 1/100\n",
      "324/324 [==============================] - 3s 9ms/step - loss: 24.8398 - acc: 0.7809 - val_loss: 17.1523 - val_acc: 0.7246\n",
      "Epoch 2/100\n",
      "324/324 [==============================] - 1s 4ms/step - loss: 13.0761 - acc: 0.7901 - val_loss: 8.5256 - val_acc: 0.7246\n",
      "Epoch 3/100\n",
      "324/324 [==============================] - 1s 3ms/step - loss: 6.3056 - acc: 0.7901 - val_loss: 4.0203 - val_acc: 0.7246\n",
      "Epoch 4/100\n",
      "324/324 [==============================] - 1s 4ms/step - loss: 2.9609 - acc: 0.7901 - val_loss: 1.9471 - val_acc: 0.7246\n",
      "Epoch 5/100\n",
      "324/324 [==============================] - 1s 3ms/step - loss: 1.4655 - acc: 0.7901 - val_loss: 1.1325 - val_acc: 0.7246\n",
      "Epoch 6/100\n",
      "324/324 [==============================] - 1s 3ms/step - loss: 0.8828 - acc: 0.7901 - val_loss: 0.8114 - val_acc: 0.7246\n",
      "Epoch 7/100\n",
      "324/324 [==============================] - 1s 4ms/step - loss: 0.6820 - acc: 0.7901 - val_loss: 0.7096 - val_acc: 0.7246\n",
      "Epoch 8/100\n",
      "324/324 [==============================] - 1s 4ms/step - loss: 0.6053 - acc: 0.7901 - val_loss: 0.6680 - val_acc: 0.7246\n",
      "Epoch 9/100\n",
      "324/324 [==============================] - 1s 4ms/step - loss: 0.5808 - acc: 0.7901 - val_loss: 0.6642 - val_acc: 0.7246\n",
      "Epoch 10/100\n",
      "324/324 [==============================] - 1s 4ms/step - loss: 0.5682 - acc: 0.7901 - val_loss: 0.6661 - val_acc: 0.7246\n",
      "Epoch 11/100\n",
      "324/324 [==============================] - 1s 4ms/step - loss: 0.5715 - acc: 0.7901 - val_loss: 0.6377 - val_acc: 0.7246\n",
      "Epoch 12/100\n",
      "324/324 [==============================] - 2s 5ms/step - loss: 0.5733 - acc: 0.7901 - val_loss: 0.6295 - val_acc: 0.7246\n",
      "Epoch 13/100\n",
      "324/324 [==============================] - 1s 5ms/step - loss: 0.5508 - acc: 0.7901 - val_loss: 0.6797 - val_acc: 0.7246\n",
      "Epoch 14/100\n",
      "324/324 [==============================] - 1s 4ms/step - loss: 0.5701 - acc: 0.7901 - val_loss: 0.6270 - val_acc: 0.7246\n",
      "Epoch 15/100\n",
      "324/324 [==============================] - 1s 4ms/step - loss: 0.5500 - acc: 0.7901 - val_loss: 0.6460 - val_acc: 0.7246\n",
      "Epoch 16/100\n",
      "324/324 [==============================] - 1s 4ms/step - loss: 0.5488 - acc: 0.7901 - val_loss: 0.6341 - val_acc: 0.7246\n",
      "Epoch 17/100\n",
      "324/324 [==============================] - 1s 4ms/step - loss: 0.5448 - acc: 0.7901 - val_loss: 0.6216 - val_acc: 0.7246\n",
      "Epoch 18/100\n",
      "324/324 [==============================] - 1s 4ms/step - loss: 0.5431 - acc: 0.7901 - val_loss: 0.6261 - val_acc: 0.7246\n",
      "Epoch 19/100\n",
      "324/324 [==============================] - 1s 4ms/step - loss: 0.5446 - acc: 0.7901 - val_loss: 0.6204 - val_acc: 0.7246\n",
      "Epoch 20/100\n",
      "324/324 [==============================] - 1s 4ms/step - loss: 0.5433 - acc: 0.7901 - val_loss: 0.6148 - val_acc: 0.7246\n",
      "Epoch 21/100\n",
      "324/324 [==============================] - 1s 4ms/step - loss: 0.5418 - acc: 0.7901 - val_loss: 0.6265 - val_acc: 0.7246\n",
      "Epoch 22/100\n",
      "324/324 [==============================] - 1s 4ms/step - loss: 0.5404 - acc: 0.7901 - val_loss: 0.6147 - val_acc: 0.7246\n",
      "Epoch 23/100\n",
      "324/324 [==============================] - 1s 4ms/step - loss: 0.5398 - acc: 0.7901 - val_loss: 0.6101 - val_acc: 0.7246\n",
      "Epoch 24/100\n",
      "324/324 [==============================] - 1s 4ms/step - loss: 0.5404 - acc: 0.7901 - val_loss: 0.6219 - val_acc: 0.7246\n",
      "Epoch 25/100\n",
      "324/324 [==============================] - 1s 4ms/step - loss: 0.5358 - acc: 0.7901 - val_loss: 0.6148 - val_acc: 0.7246\n",
      "Epoch 26/100\n",
      "324/324 [==============================] - 1s 4ms/step - loss: 0.5351 - acc: 0.7901 - val_loss: 0.6103 - val_acc: 0.7246\n",
      "Epoch 27/100\n",
      "324/324 [==============================] - 1s 4ms/step - loss: 0.5312 - acc: 0.7901 - val_loss: 0.6218 - val_acc: 0.7246\n",
      "Epoch 28/100\n",
      "324/324 [==============================] - 1s 4ms/step - loss: 0.5363 - acc: 0.7901 - val_loss: 0.6217 - val_acc: 0.7246\n",
      "Epoch 29/100\n",
      "324/324 [==============================] - 1s 4ms/step - loss: 0.5317 - acc: 0.7901 - val_loss: 0.6090 - val_acc: 0.7246\n",
      "Epoch 30/100\n",
      "324/324 [==============================] - 1s 4ms/step - loss: 0.5330 - acc: 0.7901 - val_loss: 0.6074 - val_acc: 0.7246\n",
      "Epoch 31/100\n",
      "324/324 [==============================] - 1s 4ms/step - loss: 0.5331 - acc: 0.7901 - val_loss: 0.6058 - val_acc: 0.7246\n",
      "Epoch 32/100\n",
      "324/324 [==============================] - 1s 4ms/step - loss: 0.5308 - acc: 0.7901 - val_loss: 0.6114 - val_acc: 0.7246\n",
      "Epoch 33/100\n",
      "324/324 [==============================] - 1s 4ms/step - loss: 0.5293 - acc: 0.7901 - val_loss: 0.6059 - val_acc: 0.7246\n",
      "Epoch 34/100\n",
      "324/324 [==============================] - 1s 4ms/step - loss: 0.5312 - acc: 0.7901 - val_loss: 0.6101 - val_acc: 0.7246\n",
      "Epoch 35/100\n",
      "324/324 [==============================] - 1s 4ms/step - loss: 0.5288 - acc: 0.7901 - val_loss: 0.6036 - val_acc: 0.7246\n",
      "Epoch 36/100\n",
      "324/324 [==============================] - 1s 4ms/step - loss: 0.5284 - acc: 0.7901 - val_loss: 0.6112 - val_acc: 0.7246\n",
      "Epoch 37/100\n",
      "324/324 [==============================] - 1s 4ms/step - loss: 0.5270 - acc: 0.7901 - val_loss: 0.6126 - val_acc: 0.7246\n",
      "Epoch 38/100\n",
      "324/324 [==============================] - 1s 4ms/step - loss: 0.5284 - acc: 0.7901 - val_loss: 0.6110 - val_acc: 0.7246\n",
      "Epoch 39/100\n",
      "324/324 [==============================] - 1s 4ms/step - loss: 0.5250 - acc: 0.7901 - val_loss: 0.6015 - val_acc: 0.7246\n",
      "Epoch 40/100\n",
      "324/324 [==============================] - 1s 4ms/step - loss: 0.5290 - acc: 0.7901 - val_loss: 0.6023 - val_acc: 0.7246\n",
      "Epoch 41/100\n",
      "324/324 [==============================] - 1s 4ms/step - loss: 0.5300 - acc: 0.7901 - val_loss: 0.6104 - val_acc: 0.7246\n",
      "Epoch 42/100\n",
      "324/324 [==============================] - 1s 4ms/step - loss: 0.5253 - acc: 0.7901 - val_loss: 0.6122 - val_acc: 0.7246\n",
      "Epoch 43/100\n",
      "324/324 [==============================] - 1s 4ms/step - loss: 0.5286 - acc: 0.7901 - val_loss: 0.6124 - val_acc: 0.7246\n",
      "Epoch 44/100\n",
      "324/324 [==============================] - 1s 4ms/step - loss: 0.5240 - acc: 0.7901 - val_loss: 0.6056 - val_acc: 0.7246\n",
      "Epoch 45/100\n",
      "324/324 [==============================] - 1s 4ms/step - loss: 0.5238 - acc: 0.7901 - val_loss: 0.6063 - val_acc: 0.7246\n",
      "Epoch 46/100\n",
      "324/324 [==============================] - 1s 4ms/step - loss: 0.5230 - acc: 0.7901 - val_loss: 0.6058 - val_acc: 0.7246\n",
      "Epoch 47/100\n",
      "324/324 [==============================] - 1s 4ms/step - loss: 0.5239 - acc: 0.7901 - val_loss: 0.6177 - val_acc: 0.7246\n",
      "Epoch 48/100\n",
      "324/324 [==============================] - 1s 4ms/step - loss: 0.5257 - acc: 0.7901 - val_loss: 0.6097 - val_acc: 0.7246\n",
      "Epoch 49/100\n",
      "324/324 [==============================] - 1s 4ms/step - loss: 0.5231 - acc: 0.7901 - val_loss: 0.6017 - val_acc: 0.7246\n",
      "Epoch 50/100\n",
      "324/324 [==============================] - 1s 4ms/step - loss: 0.5231 - acc: 0.7901 - val_loss: 0.6017 - val_acc: 0.7246\n",
      "Epoch 51/100\n",
      "324/324 [==============================] - 1s 4ms/step - loss: 0.5238 - acc: 0.7901 - val_loss: 0.6022 - val_acc: 0.7246\n",
      "Epoch 52/100\n",
      "324/324 [==============================] - 1s 4ms/step - loss: 0.5220 - acc: 0.7901 - val_loss: 0.6037 - val_acc: 0.7246\n",
      "Epoch 53/100\n",
      "324/324 [==============================] - 1s 4ms/step - loss: 0.5233 - acc: 0.7901 - val_loss: 0.6017 - val_acc: 0.7246\n",
      "Epoch 54/100\n",
      "324/324 [==============================] - 1s 4ms/step - loss: 0.5258 - acc: 0.7901 - val_loss: 0.6105 - val_acc: 0.7246\n",
      "Epoch 55/100\n",
      "324/324 [==============================] - 1s 4ms/step - loss: 0.5216 - acc: 0.7901 - val_loss: 0.6002 - val_acc: 0.7246\n",
      "Epoch 56/100\n",
      "324/324 [==============================] - 1s 4ms/step - loss: 0.5239 - acc: 0.7901 - val_loss: 0.5998 - val_acc: 0.7246\n",
      "Epoch 57/100\n",
      "324/324 [==============================] - 1s 5ms/step - loss: 0.5230 - acc: 0.7901 - val_loss: 0.6130 - val_acc: 0.7246\n",
      "Epoch 58/100\n",
      "324/324 [==============================] - 1s 5ms/step - loss: 0.5229 - acc: 0.7901 - val_loss: 0.6114 - val_acc: 0.7246\n",
      "Epoch 59/100\n",
      "324/324 [==============================] - 1s 5ms/step - loss: 0.5213 - acc: 0.7901 - val_loss: 0.6006 - val_acc: 0.7246\n",
      "Epoch 60/100\n",
      "324/324 [==============================] - 1s 5ms/step - loss: 0.5215 - acc: 0.7901 - val_loss: 0.6068 - val_acc: 0.7246\n",
      "Epoch 61/100\n",
      "324/324 [==============================] - 1s 4ms/step - loss: 0.5202 - acc: 0.7901 - val_loss: 0.6077 - val_acc: 0.7246\n"
     ]
    },
    {
     "name": "stdout",
     "output_type": "stream",
     "text": [
      "Epoch 62/100\n",
      "324/324 [==============================] - 1s 4ms/step - loss: 0.5207 - acc: 0.7901 - val_loss: 0.6033 - val_acc: 0.7246\n",
      "Epoch 63/100\n",
      "324/324 [==============================] - 1s 4ms/step - loss: 0.5186 - acc: 0.7901 - val_loss: 0.6107 - val_acc: 0.7246\n",
      "Epoch 64/100\n",
      "324/324 [==============================] - 1s 4ms/step - loss: 0.5245 - acc: 0.7901 - val_loss: 0.6100 - val_acc: 0.7246\n",
      "Epoch 65/100\n",
      "324/324 [==============================] - 1s 4ms/step - loss: 0.5196 - acc: 0.7901 - val_loss: 0.6017 - val_acc: 0.7246\n",
      "Epoch 66/100\n",
      "324/324 [==============================] - 1s 4ms/step - loss: 0.5207 - acc: 0.7901 - val_loss: 0.6038 - val_acc: 0.7246\n",
      "Epoch 67/100\n",
      "324/324 [==============================] - 1s 4ms/step - loss: 0.5210 - acc: 0.7901 - val_loss: 0.6137 - val_acc: 0.7246\n",
      "Epoch 68/100\n",
      "324/324 [==============================] - 1s 4ms/step - loss: 0.5254 - acc: 0.7901 - val_loss: 0.6129 - val_acc: 0.7246\n",
      "Epoch 69/100\n",
      "324/324 [==============================] - 1s 4ms/step - loss: 0.5216 - acc: 0.7901 - val_loss: 0.6013 - val_acc: 0.7246\n",
      "Epoch 70/100\n",
      "324/324 [==============================] - 1s 4ms/step - loss: 0.5205 - acc: 0.7901 - val_loss: 0.6047 - val_acc: 0.7246\n",
      "Epoch 71/100\n",
      "324/324 [==============================] - 1s 4ms/step - loss: 0.5191 - acc: 0.7901 - val_loss: 0.6094 - val_acc: 0.7246\n",
      "Epoch 72/100\n",
      "324/324 [==============================] - 1s 4ms/step - loss: 0.5205 - acc: 0.7901 - val_loss: 0.6034 - val_acc: 0.7246\n",
      "Epoch 73/100\n",
      "324/324 [==============================] - 1s 4ms/step - loss: 0.5195 - acc: 0.7901 - val_loss: 0.6032 - val_acc: 0.7246\n",
      "Epoch 74/100\n",
      "324/324 [==============================] - 1s 4ms/step - loss: 0.5186 - acc: 0.7901 - val_loss: 0.6026 - val_acc: 0.7246\n",
      "Epoch 75/100\n",
      "324/324 [==============================] - 1s 4ms/step - loss: 0.5203 - acc: 0.7901 - val_loss: 0.6088 - val_acc: 0.7246\n",
      "Epoch 76/100\n",
      "324/324 [==============================] - 1s 4ms/step - loss: 0.5208 - acc: 0.7901 - val_loss: 0.6104 - val_acc: 0.7246\n",
      "Epoch 77/100\n",
      "324/324 [==============================] - 1s 4ms/step - loss: 0.5225 - acc: 0.7901 - val_loss: 0.6024 - val_acc: 0.7246\n",
      "Epoch 78/100\n",
      "324/324 [==============================] - 1s 4ms/step - loss: 0.5196 - acc: 0.7901 - val_loss: 0.6087 - val_acc: 0.7246\n",
      "Epoch 79/100\n",
      "324/324 [==============================] - 1s 4ms/step - loss: 0.5208 - acc: 0.7901 - val_loss: 0.6005 - val_acc: 0.7246\n",
      "Epoch 80/100\n",
      "324/324 [==============================] - 1s 4ms/step - loss: 0.5195 - acc: 0.7901 - val_loss: 0.6027 - val_acc: 0.7246\n",
      "Epoch 81/100\n",
      "324/324 [==============================] - 1s 4ms/step - loss: 0.5200 - acc: 0.7901 - val_loss: 0.6058 - val_acc: 0.7246\n",
      "Epoch 82/100\n",
      "324/324 [==============================] - 1s 4ms/step - loss: 0.5205 - acc: 0.7901 - val_loss: 0.6126 - val_acc: 0.7246\n",
      "Epoch 83/100\n",
      "324/324 [==============================] - 1s 4ms/step - loss: 0.5195 - acc: 0.7901 - val_loss: 0.6088 - val_acc: 0.7246\n",
      "Epoch 84/100\n",
      "324/324 [==============================] - 1s 4ms/step - loss: 0.5199 - acc: 0.7901 - val_loss: 0.6021 - val_acc: 0.7246\n",
      "Epoch 85/100\n",
      "324/324 [==============================] - 1s 4ms/step - loss: 0.5205 - acc: 0.7901 - val_loss: 0.6018 - val_acc: 0.7246\n",
      "Epoch 86/100\n",
      "324/324 [==============================] - 1s 4ms/step - loss: 0.5222 - acc: 0.7901 - val_loss: 0.5983 - val_acc: 0.7246\n",
      "Epoch 87/100\n",
      "324/324 [==============================] - 1s 4ms/step - loss: 0.5223 - acc: 0.7901 - val_loss: 0.6055 - val_acc: 0.7246\n",
      "Epoch 88/100\n",
      "324/324 [==============================] - 1s 4ms/step - loss: 0.5189 - acc: 0.7901 - val_loss: 0.5993 - val_acc: 0.7246\n",
      "Epoch 89/100\n",
      "324/324 [==============================] - 1s 4ms/step - loss: 0.5182 - acc: 0.7901 - val_loss: 0.5980 - val_acc: 0.7246\n",
      "Epoch 90/100\n",
      "324/324 [==============================] - 1s 4ms/step - loss: 0.5186 - acc: 0.7901 - val_loss: 0.5993 - val_acc: 0.7246\n",
      "Epoch 91/100\n",
      "324/324 [==============================] - 1s 4ms/step - loss: 0.5192 - acc: 0.7901 - val_loss: 0.6092 - val_acc: 0.7246\n",
      "Epoch 92/100\n",
      "324/324 [==============================] - 1s 4ms/step - loss: 0.5210 - acc: 0.7901 - val_loss: 0.6120 - val_acc: 0.7246\n",
      "Epoch 93/100\n",
      "324/324 [==============================] - 1s 4ms/step - loss: 0.5208 - acc: 0.7901 - val_loss: 0.6016 - val_acc: 0.7246\n",
      "Epoch 94/100\n",
      "324/324 [==============================] - 1s 4ms/step - loss: 0.5204 - acc: 0.7901 - val_loss: 0.6015 - val_acc: 0.7246\n",
      "Epoch 95/100\n",
      "324/324 [==============================] - 1s 4ms/step - loss: 0.5197 - acc: 0.7901 - val_loss: 0.6082 - val_acc: 0.7246\n",
      "Epoch 96/100\n",
      "324/324 [==============================] - 1s 4ms/step - loss: 0.5178 - acc: 0.7901 - val_loss: 0.6077 - val_acc: 0.7246\n",
      "Epoch 97/100\n",
      "324/324 [==============================] - 1s 4ms/step - loss: 0.5187 - acc: 0.7901 - val_loss: 0.6051 - val_acc: 0.7246\n",
      "Epoch 98/100\n",
      "324/324 [==============================] - 1s 4ms/step - loss: 0.5182 - acc: 0.7901 - val_loss: 0.6028 - val_acc: 0.7246\n",
      "Epoch 99/100\n",
      "324/324 [==============================] - 1s 4ms/step - loss: 0.5204 - acc: 0.7901 - val_loss: 0.5983 - val_acc: 0.7246\n",
      "Epoch 100/100\n",
      "324/324 [==============================] - 1s 4ms/step - loss: 0.5188 - acc: 0.7901 - val_loss: 0.6097 - val_acc: 0.7246\n"
     ]
    }
   ],
   "source": [
    "model_3.compile(optimizer='adam',\n",
    "              loss='binary_crossentropy',\n",
    "              metrics=['accuracy'])\n",
    "\n",
    "hist_3 = model_3.fit(X_train, Y_train,\n",
    "          batch_size=32, epochs=100,\n",
    "          validation_data=(X_val, Y_val))"
   ]
  },
  {
   "cell_type": "markdown",
   "metadata": {},
   "source": [
    "Plot the loss and accuracy graphs"
   ]
  },
  {
   "cell_type": "code",
   "execution_count": 57,
   "metadata": {},
   "outputs": [
    {
     "data": {
      "image/png": "[encoded data removed]",
      "text/plain": [
       "<Figure size 432x288 with 1 Axes>"
      ]
     },
     "metadata": {
      "needs_background": "light"
     },
     "output_type": "display_data"
    }
   ],
   "source": [
    "plt.plot(hist_3.history['loss'])\n",
    "plt.plot(hist_3.history['val_loss'])\n",
    "plt.title('Model loss')\n",
    "plt.ylabel('Loss')\n",
    "plt.xlabel('Epoch')\n",
    "plt.legend(['Train', 'Val'], loc='upper right')\n",
    "plt.ylim(top=1.2, bottom=0)\n",
    "plt.show()"
   ]
  },
  {
   "cell_type": "code",
   "execution_count": 58,
   "metadata": {},
   "outputs": [
    {
     "data": {
      "image/png": "[encoded data removed]",
      "text/plain": [
       "<Figure size 432x288 with 1 Axes>"
      ]
     },
     "metadata": {
      "needs_background": "light"
     },
     "output_type": "display_data"
    }
   ],
   "source": [
    "plt.plot(hist_3.history['acc'])\n",
    "plt.plot(hist_3.history['val_acc'])\n",
    "plt.title('Model accuracy')\n",
    "plt.ylabel('Accuracy')\n",
    "plt.xlabel('Epoch')\n",
    "plt.legend(['Train', 'Val'], loc='lower right')\n",
    "plt.show()"
   ]
  },
  {
   "cell_type": "code",
   "execution_count": null,
   "metadata": {},
   "outputs": [],
   "source": []
  }
 ],
 "metadata": {
  "kernelspec": {
   "display_name": "Python 3",
   "language": "python",
   "name": "python3"
  },
  "language_info": {
   "codemirror_mode": {
    "name": "ipython",
    "version": 3
   },
   "file_extension": ".py",
   "mimetype": "text/x-python",
   "name": "python",
   "nbconvert_exporter": "python",
   "pygments_lexer": "ipython3",
   "version": "3.7.4"
  }
 },
 "nbformat": 4,
 "nbformat_minor": 2
}
