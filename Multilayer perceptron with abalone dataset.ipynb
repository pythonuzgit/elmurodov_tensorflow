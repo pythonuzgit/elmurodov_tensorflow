{
 "cells": [
  {
   "cell_type": "code",
   "execution_count": null,
   "metadata": {},
   "outputs": [],
   "source": []
  },
  {
   "cell_type": "code",
   "execution_count": null,
   "metadata": {},
   "outputs": [],
   "source": []
  },
  {
   "cell_type": "code",
   "execution_count": 20,
   "metadata": {},
   "outputs": [],
   "source": [
    "import warnings\n",
    "warnings.simplefilter(\"ignore\")\n"
   ]
  },
  {
   "cell_type": "code",
   "execution_count": 21,
   "metadata": {},
   "outputs": [],
   "source": [
    "import pandas as pd\n",
    "import numpy as np\n",
    "from keras.models import Sequential\n",
    "from keras.layers import Dense, Activation\n",
    "from keras.utils import np_utils"
   ]
  },
  {
   "cell_type": "markdown",
   "metadata": {},
   "source": [
    "Load the data set by reading a CSV file using Pandas"
   ]
  },
  {
   "cell_type": "code",
   "execution_count": 22,
   "metadata": {},
   "outputs": [],
   "source": [
    "datatrain = pd.read_csv('abalone_train.csv')"
   ]
  },
  {
   "cell_type": "markdown",
   "metadata": {},
   "source": [
    "Assign numeric values to the classes of the data set"
   ]
  },
  {
   "cell_type": "code",
   "execution_count": 23,
   "metadata": {},
   "outputs": [],
   "source": [
    "#exhange string value to numeric\n",
    "datatrain.set_value(datatrain['Sex'] == 'M', ['Sex'], 0)\n",
    "\n",
    "datatrain.set_value(datatrain['Sex']== 'F',['Sex'],1)\n",
    "datatrain.set_value(datatrain['Sex']=='I',['Sex'],2)\n",
    "datatrain = datatrain.apply(pd.to_numeric)\n"
   ]
  },
  {
   "cell_type": "markdown",
   "metadata": {},
   "source": [
    "Convert the frame to an Array"
   ]
  },
  {
   "cell_type": "code",
   "execution_count": 24,
   "metadata": {},
   "outputs": [],
   "source": [
    "datatrain_array = datatrain.as_matrix()"
   ]
  },
  {
   "cell_type": "markdown",
   "metadata": {},
   "source": [
    "Split the data and the target and store them in two different variables"
   ]
  },
  {
   "cell_type": "code",
   "execution_count": 25,
   "metadata": {},
   "outputs": [],
   "source": [
    "xtrain = datatrain_array[:, :8]\n",
    "ytrain = datatrain_array[:, 0]"
   ]
  },
  {
   "cell_type": "markdown",
   "metadata": {},
   "source": [
    "Change the target format using Numpy"
   ]
  },
  {
   "cell_type": "code",
   "execution_count": 26,
   "metadata": {},
   "outputs": [],
   "source": [
    "ytrain = np_utils.to_categorical(ytrain)"
   ]
  },
  {
   "cell_type": "markdown",
   "metadata": {},
   "source": [
    "Build a Sequential Keras Model"
   ]
  },
  {
   "cell_type": "markdown",
   "metadata": {},
   "source": [
    "Build a multilayer perceptron model with one hidden layer"
   ]
  },
  {
   "cell_type": "markdown",
   "metadata": {},
   "source": [
    "* Input Layer\n",
    "\n",
    "* Hidden Layer\n",
    "\n",
    "* Output Layer"
   ]
  },
  {
   "cell_type": "markdown",
   "metadata": {},
   "source": [
    "Build Keras Model"
   ]
  },
  {
   "cell_type": "code",
   "execution_count": 42,
   "metadata": {},
   "outputs": [],
   "source": [
    "model = Sequential()\n",
    "model.add(Dense(output_dim=14, input_dim=8))\n",
    "model.add(Activation(\"relu\"))\n",
    "model.add(Dense(output_dim=3))\n",
    "model.add(Activation(\"softmax\"))\n"
   ]
  },
  {
   "cell_type": "markdown",
   "metadata": {},
   "source": [
    "Compile the model and choose an optimizer and loss function for training and optimizing data"
   ]
  },
  {
   "cell_type": "code",
   "execution_count": 43,
   "metadata": {},
   "outputs": [],
   "source": [
    "model.compile(loss='categorical_crossentropy', optimizer='sgd', metrics=['accuracy'])"
   ]
  },
  {
   "cell_type": "markdown",
   "metadata": {},
   "source": [
    "Train the model using the model.fit function"
   ]
  },
  {
   "cell_type": "code",
   "execution_count": 44,
   "metadata": {},
   "outputs": [
    {
     "name": "stderr",
     "output_type": "stream",
     "text": [
      "W1002 12:46:37.264129 140268035958592 deprecation.py:323] From /home/chi/anaconda3/envs/tfkerEnv/lib/python3.7/site-packages/tensorflow/python/ops/math_grad.py:1250: add_dispatch_support.<locals>.wrapper (from tensorflow.python.ops.array_ops) is deprecated and will be removed in a future version.\n",
      "Instructions for updating:\n",
      "Use tf.where in 2.0, which has the same broadcast rule as np.where\n",
      "W1002 12:46:37.316324 140268035958592 deprecation_wrapper.py:119] From /home/chi/anaconda3/envs/tfkerEnv/lib/python3.7/site-packages/keras/backend/tensorflow_backend.py:986: The name tf.assign_add is deprecated. Please use tf.compat.v1.assign_add instead.\n",
      "\n"
     ]
    },
    {
     "name": "stdout",
     "output_type": "stream",
     "text": [
      "Epoch 1/100\n",
      "4177/4177 [==============================] - 3s 678us/step - loss: 1.2793 - acc: 0.3514\n",
      "Epoch 2/100\n",
      "4177/4177 [==============================] - 0s 22us/step - loss: 1.0302 - acc: 0.4879\n",
      "Epoch 3/100\n",
      "4177/4177 [==============================] - 0s 23us/step - loss: 0.9342 - acc: 0.6653\n",
      "Epoch 4/100\n",
      "4177/4177 [==============================] - 0s 20us/step - loss: 0.8687 - acc: 0.6734\n",
      "Epoch 5/100\n",
      "4177/4177 [==============================] - 0s 22us/step - loss: 0.8141 - acc: 0.6842\n",
      "Epoch 6/100\n",
      "4177/4177 [==============================] - 0s 26us/step - loss: 0.7653 - acc: 0.7132\n",
      "Epoch 7/100\n",
      "4177/4177 [==============================] - 0s 21us/step - loss: 0.7209 - acc: 0.7431\n",
      "Epoch 8/100\n",
      "4177/4177 [==============================] - 0s 27us/step - loss: 0.6799 - acc: 0.7821\n",
      "Epoch 9/100\n",
      "4177/4177 [==============================] - 0s 22us/step - loss: 0.6418 - acc: 0.8135\n",
      "Epoch 10/100\n",
      "4177/4177 [==============================] - 0s 24us/step - loss: 0.6061 - acc: 0.8429\n",
      "Epoch 11/100\n",
      "4177/4177 [==============================] - 0s 20us/step - loss: 0.5727 - acc: 0.8674\n",
      "Epoch 12/100\n",
      "4177/4177 [==============================] - 0s 27us/step - loss: 0.5413 - acc: 0.8870\n",
      "Epoch 13/100\n",
      "4177/4177 [==============================] - 0s 22us/step - loss: 0.5117 - acc: 0.9081\n",
      "Epoch 14/100\n",
      "4177/4177 [==============================] - 0s 21us/step - loss: 0.4838 - acc: 0.9291\n",
      "Epoch 15/100\n",
      "4177/4177 [==============================] - 0s 20us/step - loss: 0.4575 - acc: 0.9418\n",
      "Epoch 16/100\n",
      "4177/4177 [==============================] - 0s 25us/step - loss: 0.4326 - acc: 0.9519\n",
      "Epoch 17/100\n",
      "4177/4177 [==============================] - 0s 23us/step - loss: 0.4092 - acc: 0.9648\n",
      "Epoch 18/100\n",
      "4177/4177 [==============================] - 0s 22us/step - loss: 0.3872 - acc: 0.9708\n",
      "Epoch 19/100\n",
      "4177/4177 [==============================] - 0s 26us/step - loss: 0.3665 - acc: 0.9758\n",
      "Epoch 20/100\n",
      "4177/4177 [==============================] - 0s 28us/step - loss: 0.3471 - acc: 0.9797\n",
      "Epoch 21/100\n",
      "4177/4177 [==============================] - 0s 30us/step - loss: 0.3288 - acc: 0.9823\n",
      "Epoch 22/100\n",
      "4177/4177 [==============================] - 0s 27us/step - loss: 0.3117 - acc: 0.9849\n",
      "Epoch 23/100\n",
      "4177/4177 [==============================] - 0s 24us/step - loss: 0.2956 - acc: 0.9859\n",
      "Epoch 24/100\n",
      "4177/4177 [==============================] - 0s 21us/step - loss: 0.2806 - acc: 0.9873\n",
      "Epoch 25/100\n",
      "4177/4177 [==============================] - 0s 28us/step - loss: 0.2666 - acc: 0.9892\n",
      "Epoch 26/100\n",
      "4177/4177 [==============================] - 0s 29us/step - loss: 0.2534 - acc: 0.9897\n",
      "Epoch 27/100\n",
      "4177/4177 [==============================] - 0s 24us/step - loss: 0.2411 - acc: 0.9907\n",
      "Epoch 28/100\n",
      "4177/4177 [==============================] - 0s 26us/step - loss: 0.2296 - acc: 0.9914\n",
      "Epoch 29/100\n",
      "4177/4177 [==============================] - 0s 31us/step - loss: 0.2188 - acc: 0.9923\n",
      "Epoch 30/100\n",
      "4177/4177 [==============================] - 0s 31us/step - loss: 0.2087 - acc: 0.9928\n",
      "Epoch 31/100\n",
      "4177/4177 [==============================] - 0s 25us/step - loss: 0.1993 - acc: 0.9931\n",
      "Epoch 32/100\n",
      "4177/4177 [==============================] - 0s 22us/step - loss: 0.1905 - acc: 0.9935\n",
      "Epoch 33/100\n",
      "4177/4177 [==============================] - 0s 28us/step - loss: 0.1823 - acc: 0.9940\n",
      "Epoch 34/100\n",
      "4177/4177 [==============================] - 0s 28us/step - loss: 0.1746 - acc: 0.9943\n",
      "Epoch 35/100\n",
      "4177/4177 [==============================] - 0s 30us/step - loss: 0.1674 - acc: 0.9943\n",
      "Epoch 36/100\n",
      "4177/4177 [==============================] - 0s 19us/step - loss: 0.1607 - acc: 0.9945\n",
      "Epoch 37/100\n",
      "4177/4177 [==============================] - 0s 28us/step - loss: 0.1544 - acc: 0.9947\n",
      "Epoch 38/100\n",
      "4177/4177 [==============================] - 0s 31us/step - loss: 0.1485 - acc: 0.9947\n",
      "Epoch 39/100\n",
      "4177/4177 [==============================] - 0s 30us/step - loss: 0.1429 - acc: 0.9950\n",
      "Epoch 40/100\n",
      "4177/4177 [==============================] - 0s 27us/step - loss: 0.1377 - acc: 0.9950\n",
      "Epoch 41/100\n",
      "4177/4177 [==============================] - 0s 22us/step - loss: 0.1328 - acc: 0.9950\n",
      "Epoch 42/100\n",
      "4177/4177 [==============================] - 0s 24us/step - loss: 0.1281 - acc: 0.9952\n",
      "Epoch 43/100\n",
      "4177/4177 [==============================] - 0s 30us/step - loss: 0.1238 - acc: 0.9950\n",
      "Epoch 44/100\n",
      "4177/4177 [==============================] - 0s 27us/step - loss: 0.1196 - acc: 0.9955\n",
      "Epoch 45/100\n",
      "4177/4177 [==============================] - 0s 24us/step - loss: 0.1157 - acc: 0.9955\n",
      "Epoch 46/100\n",
      "4177/4177 [==============================] - 0s 22us/step - loss: 0.1120 - acc: 0.9955\n",
      "Epoch 47/100\n",
      "4177/4177 [==============================] - 0s 24us/step - loss: 0.1085 - acc: 0.9957\n",
      "Epoch 48/100\n",
      "4177/4177 [==============================] - 0s 26us/step - loss: 0.1052 - acc: 0.9962\n",
      "Epoch 49/100\n",
      "4177/4177 [==============================] - 0s 20us/step - loss: 0.1021 - acc: 0.9962\n",
      "Epoch 50/100\n",
      "4177/4177 [==============================] - 0s 19us/step - loss: 0.0991 - acc: 0.9964\n",
      "Epoch 51/100\n",
      "4177/4177 [==============================] - 0s 19us/step - loss: 0.0963 - acc: 0.9969\n",
      "Epoch 52/100\n",
      "4177/4177 [==============================] - 0s 20us/step - loss: 0.0936 - acc: 0.9969\n",
      "Epoch 53/100\n",
      "4177/4177 [==============================] - 0s 18us/step - loss: 0.0910 - acc: 0.9974\n",
      "Epoch 54/100\n",
      "4177/4177 [==============================] - 0s 20us/step - loss: 0.0886 - acc: 0.9974\n",
      "Epoch 55/100\n",
      "4177/4177 [==============================] - 0s 17us/step - loss: 0.0863 - acc: 0.9974\n",
      "Epoch 56/100\n",
      "4177/4177 [==============================] - 0s 20us/step - loss: 0.0840 - acc: 0.9976\n",
      "Epoch 57/100\n",
      "4177/4177 [==============================] - 0s 17us/step - loss: 0.0819 - acc: 0.9976\n",
      "Epoch 58/100\n",
      "4177/4177 [==============================] - 0s 19us/step - loss: 0.0799 - acc: 0.9976\n",
      "Epoch 59/100\n",
      "4177/4177 [==============================] - 0s 18us/step - loss: 0.0779 - acc: 0.9976\n",
      "Epoch 60/100\n",
      "4177/4177 [==============================] - 0s 17us/step - loss: 0.0761 - acc: 0.9976\n",
      "Epoch 61/100\n",
      "4177/4177 [==============================] - 0s 21us/step - loss: 0.0743 - acc: 0.9978\n",
      "Epoch 62/100\n",
      "4177/4177 [==============================] - 0s 23us/step - loss: 0.0726 - acc: 0.9978\n",
      "Epoch 63/100\n",
      "4177/4177 [==============================] - 0s 18us/step - loss: 0.0709 - acc: 0.9978\n",
      "Epoch 64/100\n",
      "4177/4177 [==============================] - 0s 18us/step - loss: 0.0693 - acc: 0.9978\n",
      "Epoch 65/100\n",
      "4177/4177 [==============================] - 0s 20us/step - loss: 0.0678 - acc: 0.9978\n",
      "Epoch 66/100\n",
      "4177/4177 [==============================] - 0s 19us/step - loss: 0.0664 - acc: 0.9978\n",
      "Epoch 67/100\n",
      "4177/4177 [==============================] - 0s 20us/step - loss: 0.0650 - acc: 0.9978\n",
      "Epoch 68/100\n",
      "4177/4177 [==============================] - 0s 19us/step - loss: 0.0636 - acc: 0.9978\n",
      "Epoch 69/100\n",
      "4177/4177 [==============================] - 0s 19us/step - loss: 0.0623 - acc: 0.9981\n",
      "Epoch 70/100\n",
      "4177/4177 [==============================] - 0s 20us/step - loss: 0.0611 - acc: 0.9981\n",
      "Epoch 71/100\n",
      "4177/4177 [==============================] - 0s 17us/step - loss: 0.0599 - acc: 0.9981\n",
      "Epoch 72/100\n",
      "4177/4177 [==============================] - 0s 18us/step - loss: 0.0587 - acc: 0.9981\n",
      "Epoch 73/100\n",
      "4177/4177 [==============================] - 0s 22us/step - loss: 0.0576 - acc: 0.9981\n",
      "Epoch 74/100\n",
      "4177/4177 [==============================] - 0s 19us/step - loss: 0.0565 - acc: 0.9981\n",
      "Epoch 75/100\n",
      "4177/4177 [==============================] - 0s 19us/step - loss: 0.0554 - acc: 0.9981\n",
      "Epoch 76/100\n",
      "4177/4177 [==============================] - 0s 17us/step - loss: 0.0544 - acc: 0.9981\n",
      "Epoch 77/100\n",
      "4177/4177 [==============================] - 0s 19us/step - loss: 0.0534 - acc: 0.9981\n",
      "Epoch 78/100\n",
      "4177/4177 [==============================] - 0s 21us/step - loss: 0.0525 - acc: 0.9981\n",
      "Epoch 79/100\n",
      "4177/4177 [==============================] - 0s 22us/step - loss: 0.0516 - acc: 0.9981\n",
      "Epoch 80/100\n",
      "4177/4177 [==============================] - 0s 21us/step - loss: 0.0507 - acc: 0.9981\n",
      "Epoch 81/100\n",
      "4177/4177 [==============================] - 0s 22us/step - loss: 0.0498 - acc: 0.9981\n",
      "Epoch 82/100\n",
      "4177/4177 [==============================] - 0s 22us/step - loss: 0.0490 - acc: 0.9981\n",
      "Epoch 83/100\n"
     ]
    },
    {
     "name": "stdout",
     "output_type": "stream",
     "text": [
      "4177/4177 [==============================] - 0s 23us/step - loss: 0.0482 - acc: 0.9981\n",
      "Epoch 84/100\n",
      "4177/4177 [==============================] - 0s 19us/step - loss: 0.0474 - acc: 0.9983\n",
      "Epoch 85/100\n",
      "4177/4177 [==============================] - 0s 18us/step - loss: 0.0466 - acc: 0.9983\n",
      "Epoch 86/100\n",
      "4177/4177 [==============================] - 0s 21us/step - loss: 0.0459 - acc: 0.9983\n",
      "Epoch 87/100\n",
      "4177/4177 [==============================] - 0s 19us/step - loss: 0.0452 - acc: 0.9983\n",
      "Epoch 88/100\n",
      "4177/4177 [==============================] - 0s 20us/step - loss: 0.0445 - acc: 0.9986\n",
      "Epoch 89/100\n",
      "4177/4177 [==============================] - 0s 21us/step - loss: 0.0438 - acc: 0.9986\n",
      "Epoch 90/100\n",
      "4177/4177 [==============================] - 0s 16us/step - loss: 0.0431 - acc: 0.9986\n",
      "Epoch 91/100\n",
      "4177/4177 [==============================] - 0s 19us/step - loss: 0.0425 - acc: 0.9986\n",
      "Epoch 92/100\n",
      "4177/4177 [==============================] - 0s 18us/step - loss: 0.0419 - acc: 0.9986\n",
      "Epoch 93/100\n",
      "4177/4177 [==============================] - 0s 18us/step - loss: 0.0412 - acc: 0.9986\n",
      "Epoch 94/100\n",
      "4177/4177 [==============================] - 0s 18us/step - loss: 0.0406 - acc: 0.9986\n",
      "Epoch 95/100\n",
      "4177/4177 [==============================] - 0s 17us/step - loss: 0.0401 - acc: 0.9986\n",
      "Epoch 96/100\n",
      "4177/4177 [==============================] - 0s 18us/step - loss: 0.0395 - acc: 0.9986\n",
      "Epoch 97/100\n",
      "4177/4177 [==============================] - 0s 18us/step - loss: 0.0389 - acc: 0.9986\n",
      "Epoch 98/100\n",
      "4177/4177 [==============================] - 0s 19us/step - loss: 0.0384 - acc: 0.9988\n",
      "Epoch 99/100\n",
      "4177/4177 [==============================] - 0s 22us/step - loss: 0.0379 - acc: 0.9988\n",
      "Epoch 100/100\n",
      "4177/4177 [==============================] - 0s 17us/step - loss: 0.0374 - acc: 0.9988\n"
     ]
    },
    {
     "data": {
      "text/plain": [
       "<keras.callbacks.History at 0x7f9269f5cd10>"
      ]
     },
     "execution_count": 44,
     "metadata": {},
     "output_type": "execute_result"
    }
   ],
   "source": [
    "model.fit(xtrain, ytrain, nb_epoch=100, batch_size=120)"
   ]
  },
  {
   "cell_type": "code",
   "execution_count": null,
   "metadata": {},
   "outputs": [],
   "source": [
    "datatest.set_value(datatest['class']=='Iris-setosa',['class'],0)\n",
    "datatest.set_value(datatest['class']=='Iris-versicolor',['class'],1)\n",
    "datatest.set_value(datatest['class']=='Iris-virginica',['class'],2)\n",
    "datatest = datatest.apply(pd.to_numeric)"
   ]
  },
  {
   "cell_type": "markdown",
   "metadata": {},
   "source": [
    "Load and preppare the test data"
   ]
  },
  {
   "cell_type": "code",
   "execution_count": 45,
   "metadata": {},
   "outputs": [],
   "source": [
    "datatest = pd.read_csv('abalone_test.csv')"
   ]
  },
  {
   "cell_type": "code",
   "execution_count": 46,
   "metadata": {},
   "outputs": [],
   "source": [
    "# change string value to numeric\n",
    "\n",
    "\n",
    "datatest.set_value(datatest['Sex']=='M',['Sex'],0)\n",
    "datatest.set_value(datatest['Sex']=='F',['Sex'],1)\n",
    "datatest.set_value(datatest['Sex']=='I',['Sex'],2)\n",
    "datatest = datatest.apply(pd.to_numeric)\n"
   ]
  },
  {
   "cell_type": "code",
   "execution_count": 47,
   "metadata": {},
   "outputs": [],
   "source": [
    "#change dataframe to array\n",
    "datatest_array = datatest.as_matrix()\n"
   ]
  },
  {
   "cell_type": "markdown",
   "metadata": {},
   "source": [
    "Split x and y, in other words, the feature set and target set"
   ]
  },
  {
   "cell_type": "code",
   "execution_count": 49,
   "metadata": {},
   "outputs": [],
   "source": [
    "xtest = datatest_array[:, :8]\n",
    "ytest = datatest_array[:, 0]"
   ]
  },
  {
   "cell_type": "markdown",
   "metadata": {},
   "source": [
    "Make prediction on the trained model"
   ]
  },
  {
   "cell_type": "code",
   "execution_count": 50,
   "metadata": {},
   "outputs": [],
   "source": [
    "classes = model.predict_classes(xtest, batch_size=120)"
   ]
  },
  {
   "cell_type": "markdown",
   "metadata": {},
   "source": [
    "Calculate the accuracy"
   ]
  },
  {
   "cell_type": "code",
   "execution_count": 51,
   "metadata": {},
   "outputs": [],
   "source": [
    "accuration = np.sum(classes == ytest)/30.0 * 100"
   ]
  },
  {
   "cell_type": "markdown",
   "metadata": {},
   "source": [
    "Print the accuracy generated by the model"
   ]
  },
  {
   "cell_type": "code",
   "execution_count": 53,
   "metadata": {},
   "outputs": [
    {
     "name": "stdout",
     "output_type": "stream",
     "text": [
      "Test Accuration : 1370.0%\n",
      "Prediction :\n",
      "[0 0 1 0 0 2 1 0 2 2 1 0 0 2 1 1 0 2 1 0 0 1 0 2 1 1 1 0 1 1 0 1 2 0 1 0 0\n",
      " 2 1 0 1 2 1 2 2 0 1 0 0 0 2 1 2 0 1 0 0 0 2 0 1 1 1 0 0 0 0 0 0 0 0 1 0 1\n",
      " 0 1 1 0 0 0 0 1 1 1 0 1 0 0 0 0 1 0 0 0 0 1 1 1 0 1 0 1 0 1 1 0 1 1 0 1 1\n",
      " 0 0 0 1 1 1 0 1 1 0 0 0 2 2 1 0 2 0 2 2 2 2 0 2 0 2 1 0 0 0 0 0 0 1 2 2 1\n",
      " 1 1 0 0 0 2 1 0 2 0 0 0 0 1 1 0 0 0 0 1 1 0 0 0 1 0 1 1 1 1 0 1 1 0 0 2 2\n",
      " 2 2 2 2 2 2 2 2 2 2 2 2 2 2 2 2 2 2 2 2 2 2 2 2 2 2 2 2 2 2 2 2 1 2 2 0 2\n",
      " 2 2 2 2 2 2 2 2 2 2 2 2 1 2 2 2 2 2 2 0 0 0 2 0 2 1 0 0 2 0 2 0 0 0 0 1 0\n",
      " 0 0 0 0 1 2 2 1 0 1 1 0 2 0 0 1 0 0 1 2 1 0 0 1 1 1 0 0 1 0 0 0 1 0 0 0 0\n",
      " 0 0 1 1 1 0 1 1 1 0 0 0 0 1 1 2 0 1 1 0 1 2 1 1 1 1 0 1 0 1 0 0 1 0 1 0 0\n",
      " 0 0 0 1 0 0 1 1 0 1 1 0 2 2 2 2 2 2 2 2 2 2 2 2 2 2 2 2 2 2 2 2 2 2 2 2 2\n",
      " 0 2 0 2 2 0 0 0 2 0 0 1 1 0 1 1 0 1 0 0 1 0 0 1 0 2 2 2 2 2 2 2 2 1 2 2 2\n",
      " 2 2 0 1]\n",
      "Target :\n",
      "[0 0 1 0 0 2 1 0 2 2 1 0 0 2 1 1 0 2 1 0 0 1 0 2 1 1 1 0 1 1 0 1 2 0 1 0 0\n",
      " 2 1 0 1 2 1 2 2 0 1 0 0 0 2 1 2 0 1 0 0 0 2 0 1 1 1 0 0 0 0 0 0 0 0 1 0 1\n",
      " 0 1 1 0 0 0 0 1 1 1 0 1 0 0 0 0 1 0 0 0 0 1 1 1 0 1 0 1 0 1 1 0 1 1 0 1 1\n",
      " 0 0 0 1 1 1 0 1 1 0 0 0 2 2 1 0 2 0 2 2 2 2 0 2 0 2 1 0 0 0 0 0 0 1 2 2 1\n",
      " 1 1 0 0 0 2 1 0 2 0 0 0 0 1 1 0 0 0 0 1 1 0 0 0 1 0 1 1 1 1 0 1 1 0 0 2 2\n",
      " 2 2 2 2 2 2 2 2 2 2 2 2 2 2 2 2 2 2 2 2 2 2 2 2 2 2 2 2 2 2 2 2 1 2 2 0 2\n",
      " 2 2 2 2 2 2 2 2 2 2 2 2 1 2 2 2 2 2 2 0 0 0 2 0 2 1 0 0 2 0 2 0 0 0 0 1 0\n",
      " 0 0 0 0 1 2 2 1 0 1 1 0 2 0 0 1 0 0 1 2 1 0 0 1 1 1 0 0 1 0 0 0 1 0 0 0 0\n",
      " 0 0 1 1 1 0 1 1 1 0 0 0 0 1 1 2 0 1 1 0 1 2 1 1 1 1 0 1 0 1 0 0 1 0 1 0 0\n",
      " 0 0 0 1 0 0 1 1 0 1 1 0 2 2 2 2 2 2 2 2 2 2 2 2 2 2 2 2 2 2 2 2 2 2 2 2 2\n",
      " 0 2 0 2 2 0 0 0 2 0 0 1 1 0 1 1 0 1 0 0 1 0 0 1 0 2 2 2 2 2 2 2 2 1 2 2 2\n",
      " 2 2 0 1]\n"
     ]
    }
   ],
   "source": [
    "print(\"Test Accuration : \" + str(accuration) + '%')\n",
    "print(\"Prediction :\")\n",
    "print(classes)\n",
    "print(\"Target :\")\n",
    "print(np.asarray(ytest,dtype=\"int64\"))"
   ]
  },
  {
   "cell_type": "code",
   "execution_count": null,
   "metadata": {},
   "outputs": [],
   "source": []
  }
 ],
 "metadata": {
  "kernelspec": {
   "display_name": "Python 3",
   "language": "python",
   "name": "python3"
  },
  "language_info": {
   "codemirror_mode": {
    "name": "ipython",
    "version": 3
   },
   "file_extension": ".py",
   "mimetype": "text/x-python",
   "name": "python",
   "nbconvert_exporter": "python",
   "pygments_lexer": "ipython3",
   "version": "3.7.4"
  }
 },
 "nbformat": 4,
 "nbformat_minor": 2
}
